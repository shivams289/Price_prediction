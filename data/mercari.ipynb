{
 "cells": [
  {
   "cell_type": "code",
   "execution_count": 1,
   "id": "b7ff3191",
   "metadata": {},
   "outputs": [],
   "source": [
    "import pandas as pd\n",
    "import numpy as np\n",
    "import seaborn as sns\n",
    "import matplotlib.pyplot as plt\n",
    "import scipy\n",
    "\n",
    "from sklearn.preprocessing import StandardScaler\n",
    "from sklearn.metrics import mean_squared_log_error\n",
    "from sklearn.model_selection import cross_val_score\n",
    "from sklearn.model_selection import train_test_split\n",
    "from sklearn.metrics import make_scorer\n",
    "from sklearn.linear_model import Ridge\n",
    "from catboost import CatBoostRegressor\n",
    "\n",
    "\n",
    "from sklearn.feature_extraction.text import CountVectorizer, TfidfVectorizer\n",
    "\n",
    "import nltk\n",
    "import re\n",
    "from nltk.stem import PorterStemmer\n",
    "from nltk.corpus import stopwords\n",
    "from sklearn.preprocessing import LabelBinarizer\n",
    "\n",
    "#Left to deal with 'name', 'brand_name', 'seller_id', 'item_description'"
   ]
  },
  {
   "cell_type": "code",
   "execution_count": 77,
   "id": "7d3b8ae6",
   "metadata": {},
   "outputs": [],
   "source": [
    "import pickle"
   ]
  },
  {
   "cell_type": "code",
   "execution_count": 3,
   "id": "9f62ed6a",
   "metadata": {},
   "outputs": [],
   "source": [
    "df_train = pd.read_csv('mercari_train.csv')"
   ]
  },
  {
   "cell_type": "code",
   "execution_count": 4,
   "id": "333fccb6",
   "metadata": {},
   "outputs": [],
   "source": [
    "df_test = pd.read_csv('mercari_test.csv')"
   ]
  },
  {
   "cell_type": "code",
   "execution_count": 5,
   "id": "86533307",
   "metadata": {},
   "outputs": [
    {
     "name": "stdout",
     "output_type": "stream",
     "text": [
      "Train_Shape: (68400, 9)\n",
      "Test_Shape: (31789, 8)\n"
     ]
    }
   ],
   "source": [
    "print('Train_Shape:',df_train.shape)\n",
    "print('Test_Shape:',df_test.shape)"
   ]
  },
  {
   "cell_type": "code",
   "execution_count": 6,
   "id": "14f244fe",
   "metadata": {},
   "outputs": [
    {
     "name": "stdout",
     "output_type": "stream",
     "text": [
      "Train_columns: Index(['id', 'name', 'item_condition_id', 'category_name', 'brand_name',\n",
      "       'price', 'shipping', 'seller_id', 'item_description'],\n",
      "      dtype='object')\n",
      "Test_columns: Index(['id', 'name', 'item_condition_id', 'category_name', 'brand_name',\n",
      "       'shipping', 'seller_id', 'item_description'],\n",
      "      dtype='object')\n"
     ]
    }
   ],
   "source": [
    "print('Train_columns:',df_train.columns)\n",
    "print('Test_columns:',df_test.columns)"
   ]
  },
  {
   "cell_type": "code",
   "execution_count": 7,
   "id": "56ebfdd8",
   "metadata": {},
   "outputs": [
    {
     "name": "stdout",
     "output_type": "stream",
     "text": [
      "Train_Dtypes:\n",
      " id                    int64\n",
      "name                 object\n",
      "item_condition_id     int64\n",
      "category_name        object\n",
      "brand_name           object\n",
      "price                 int64\n",
      "shipping              int64\n",
      "seller_id             int64\n",
      "item_description     object\n",
      "dtype: object \n",
      "\n",
      "Test_Dtypes:\n",
      " id                    int64\n",
      "name                 object\n",
      "item_condition_id     int64\n",
      "category_name        object\n",
      "brand_name           object\n",
      "shipping              int64\n",
      "seller_id             int64\n",
      "item_description     object\n",
      "dtype: object\n"
     ]
    }
   ],
   "source": [
    "print('Train_Dtypes:\\n',df_train.dtypes, '\\n')\n",
    "print('Test_Dtypes:\\n',df_test.dtypes)"
   ]
  },
  {
   "cell_type": "code",
   "execution_count": 8,
   "id": "36f731ac",
   "metadata": {},
   "outputs": [
    {
     "name": "stdout",
     "output_type": "stream",
     "text": [
      "Train_Nulls:\n",
      " id                   0.000000\n",
      "name                 0.000000\n",
      "item_condition_id    0.000000\n",
      "category_name        0.000000\n",
      "brand_name           0.313816\n",
      "price                0.000000\n",
      "shipping             0.000000\n",
      "seller_id            0.000000\n",
      "item_description     0.099561\n",
      "dtype: float64 \n",
      "\n",
      "Test_Nulls:\n",
      " id                   0.000000\n",
      "name                 0.000000\n",
      "item_condition_id    0.000000\n",
      "category_name        0.000000\n",
      "brand_name           0.311271\n",
      "shipping             0.000000\n",
      "seller_id            0.000000\n",
      "item_description     0.096574\n",
      "dtype: float64\n"
     ]
    }
   ],
   "source": [
    "print('Train_Nulls:\\n',df_train.isna().mean(), '\\n')\n",
    "print('Test_Nulls:\\n',df_test.isna().mean())"
   ]
  },
  {
   "cell_type": "code",
   "execution_count": 9,
   "id": "003dfe7c",
   "metadata": {},
   "outputs": [],
   "source": [
    "y = df_train['price']\n"
   ]
  },
  {
   "cell_type": "code",
   "execution_count": 10,
   "id": "64093131",
   "metadata": {},
   "outputs": [],
   "source": [
    "df_train = df_train.drop(['price'], axis =1)\n",
    "df = pd.concat([df_train, df_test], axis = 0)"
   ]
  },
  {
   "cell_type": "code",
   "execution_count": 11,
   "id": "dc7e3627",
   "metadata": {},
   "outputs": [],
   "source": [
    "df.reset_index(drop = True, inplace = True)"
   ]
  },
  {
   "cell_type": "code",
   "execution_count": 12,
   "id": "484c03dc",
   "metadata": {},
   "outputs": [],
   "source": [
    "df.brand_name = df.brand_name.replace(np.nan, 'unknown')\n",
    "df.item_description = df.item_description.fillna(\"None\")"
   ]
  },
  {
   "cell_type": "code",
   "execution_count": 13,
   "id": "561c44cc",
   "metadata": {},
   "outputs": [
    {
     "name": "stdout",
     "output_type": "stream",
     "text": [
      "Final_Nulls:\n",
      " id                   0.0\n",
      "name                 0.0\n",
      "item_condition_id    0.0\n",
      "category_name        0.0\n",
      "brand_name           0.0\n",
      "shipping             0.0\n",
      "seller_id            0.0\n",
      "item_description     0.0\n",
      "dtype: float64\n"
     ]
    }
   ],
   "source": [
    "print('Final_Nulls:\\n',df.isna().mean())"
   ]
  },
  {
   "cell_type": "code",
   "execution_count": 14,
   "id": "f1650e54",
   "metadata": {},
   "outputs": [],
   "source": [
    "#Storing train and test in different dfs\n",
    "df_train = df[:len(df_train)]\n",
    "df_test = df[:len(df_test)]"
   ]
  },
  {
   "cell_type": "code",
   "execution_count": 15,
   "id": "0f3ee3c4",
   "metadata": {},
   "outputs": [
    {
     "data": {
      "text/plain": [
       "85110"
      ]
     },
     "execution_count": 15,
     "metadata": {},
     "output_type": "execute_result"
    }
   ],
   "source": [
    "#name is not unique\n",
    "len(set(df.name))"
   ]
  },
  {
   "cell_type": "code",
   "execution_count": 16,
   "id": "36025ec2",
   "metadata": {},
   "outputs": [
    {
     "name": "stdout",
     "output_type": "stream",
     "text": [
      "Set_Item_condition_id: 5\n"
     ]
    }
   ],
   "source": [
    "print('Set_Item_condition_id:',len(set(df.item_condition_id)))"
   ]
  },
  {
   "cell_type": "code",
   "execution_count": 17,
   "id": "445a2be0",
   "metadata": {},
   "outputs": [
    {
     "data": {
      "text/plain": [
       "<AxesSubplot:xlabel='item_condition_id', ylabel='count'>"
      ]
     },
     "execution_count": 17,
     "metadata": {},
     "output_type": "execute_result"
    },
    {
     "data": {
      "image/png": "[encoded data removed]",
      "text/plain": [
       "<Figure size 432x288 with 1 Axes>"
      ]
     },
     "metadata": {
      "needs_background": "light"
     },
     "output_type": "display_data"
    }
   ],
   "source": [
    "sns.countplot(x = 'item_condition_id', data = df)"
   ]
  },
  {
   "cell_type": "code",
   "execution_count": 18,
   "id": "307ec1a5",
   "metadata": {},
   "outputs": [
    {
     "name": "stdout",
     "output_type": "stream",
     "text": [
      "Category_name_set: 23\n"
     ]
    }
   ],
   "source": [
    "print('Category_name_set:',len(set(df.category_name)))"
   ]
  },
  {
   "cell_type": "code",
   "execution_count": 19,
   "id": "a2a4f7a1",
   "metadata": {},
   "outputs": [
    {
     "data": {
      "text/plain": [
       "Women/Athletic apparel/Pants, tights, leggings    13699\n",
       "Women/Tops & blouses/T-shirts                     11843\n",
       "Women/Tops & blouses/Blouse                        5279\n",
       "Women/Tops & blouses/Tank, cami                    5062\n",
       "Women/Shoes/Boots                                  4765\n",
       "Women/Dresses/Above knee, mini                     4620\n",
       "Women/Athletic apparel/Shorts                      4561\n",
       "Women/Underwear/Bras                               4241\n",
       "Women/Dresses/Knee-length                          4167\n",
       "Women/Women's handbags/Shoulder Bags               3901\n",
       "Women/Shoes/Sandals                                3787\n",
       "Women/Jewelry/Necklaces                            3692\n",
       "Women/Women's accessories/Wallets                  3343\n",
       "Women/Swimwear/Two-piece                           3196\n",
       "Women/Shoes/Athletic                               3190\n",
       "Women/Athletic apparel/Shirts & tops               3101\n",
       "Women/Jewelry/Bracelets                            3027\n",
       "Women/Jeans/Slim, skinny                           2801\n",
       "Women/Shoes/Fashion sneakers                       2654\n",
       "Women/Sweaters/Hooded                              2487\n",
       "Women/Jewelry/Earrings                             2386\n",
       "Women/Tops & blouses/Tunic                         2203\n",
       "Women/Sweaters/Cardigan                            2184\n",
       "Name: category_name, dtype: int64"
      ]
     },
     "execution_count": 19,
     "metadata": {},
     "output_type": "execute_result"
    }
   ],
   "source": [
    "df.category_name.value_counts()"
   ]
  },
  {
   "cell_type": "code",
   "execution_count": 20,
   "id": "d5c24b40",
   "metadata": {},
   "outputs": [
    {
     "data": {
      "text/plain": [
       "54688"
      ]
     },
     "execution_count": 20,
     "metadata": {},
     "output_type": "execute_result"
    }
   ],
   "source": [
    "len(set(df.seller_id))"
   ]
  },
  {
   "cell_type": "code",
   "execution_count": 21,
   "id": "139c7aa7",
   "metadata": {},
   "outputs": [
    {
     "data": {
      "text/plain": [
       "1242"
      ]
     },
     "execution_count": 21,
     "metadata": {},
     "output_type": "execute_result"
    }
   ],
   "source": [
    "len(set(df.brand_name))"
   ]
  },
  {
   "cell_type": "code",
   "execution_count": 22,
   "id": "73bd3c13",
   "metadata": {},
   "outputs": [
    {
     "data": {
      "text/plain": [
       "unknown               31360\n",
       "PINK                   6780\n",
       "LuLaRoe                6511\n",
       "Nike                   5185\n",
       "Victoria's Secret      4900\n",
       "                      ...  \n",
       "Junk Food Clothing        1\n",
       "Onitsuka Tiger            1\n",
       "Krazy Kat                 1\n",
       "Last Kiss                 1\n",
       "LaCrosse Footwear         1\n",
       "Name: brand_name, Length: 1242, dtype: int64"
      ]
     },
     "execution_count": 22,
     "metadata": {},
     "output_type": "execute_result"
    }
   ],
   "source": [
    "df.brand_name.value_counts()"
   ]
  },
  {
   "cell_type": "code",
   "execution_count": 23,
   "id": "ff8628ed",
   "metadata": {},
   "outputs": [
    {
     "data": {
      "text/plain": [
       "2"
      ]
     },
     "execution_count": 23,
     "metadata": {},
     "output_type": "execute_result"
    }
   ],
   "source": [
    "len(set(df.shipping))"
   ]
  },
  {
   "cell_type": "code",
   "execution_count": 24,
   "id": "4b3badbc",
   "metadata": {},
   "outputs": [],
   "source": [
    "#df_train[['brand_name', 'category_name', 'price']].groupby(['category_name', 'brand_name']).agg(['mean', 'median', 'std'])"
   ]
  },
  {
   "cell_type": "code",
   "execution_count": 25,
   "id": "fdd864e3",
   "metadata": {},
   "outputs": [],
   "source": [
    "df.item_description = df.item_description + '' + df.name + df.category_name"
   ]
  },
  {
   "cell_type": "code",
   "execution_count": 26,
   "id": "10bf7391",
   "metadata": {},
   "outputs": [
    {
     "data": {
      "text/plain": [
       "<AxesSubplot:xlabel='item_condition_id', ylabel='price'>"
      ]
     },
     "execution_count": 26,
     "metadata": {},
     "output_type": "execute_result"
    },
    {
     "data": {
      "image/png": "[encoded data removed]",
      "text/plain": [
       "<Figure size 432x288 with 1 Axes>"
      ]
     },
     "metadata": {
      "needs_background": "light"
     },
     "output_type": "display_data"
    }
   ],
   "source": [
    "sns.boxplot(x=df_train['item_condition_id'], y=np.log(y))"
   ]
  },
  {
   "cell_type": "code",
   "execution_count": 27,
   "id": "961103b4",
   "metadata": {},
   "outputs": [
    {
     "data": {
      "text/plain": [
       "<AxesSubplot:xlabel='category_name', ylabel='price'>"
      ]
     },
     "execution_count": 27,
     "metadata": {},
     "output_type": "execute_result"
    },
    {
     "data": {
      "image/png": "[encoded data removed]",
      "text/plain": [
       "<Figure size 432x288 with 1 Axes>"
      ]
     },
     "metadata": {
      "needs_background": "light"
     },
     "output_type": "display_data"
    }
   ],
   "source": [
    "sns.boxplot(x=df_train['category_name'], y=np.log(y))"
   ]
  },
  {
   "cell_type": "code",
   "execution_count": 28,
   "id": "f7003854",
   "metadata": {},
   "outputs": [
    {
     "data": {
      "text/plain": [
       "<AxesSubplot:xlabel='item_condition_id', ylabel='price'>"
      ]
     },
     "execution_count": 28,
     "metadata": {},
     "output_type": "execute_result"
    },
    {
     "data": {
      "image/png": "[encoded data removed]",
      "text/plain": [
       "<Figure size 432x288 with 1 Axes>"
      ]
     },
     "metadata": {
      "needs_background": "light"
     },
     "output_type": "display_data"
    }
   ],
   "source": [
    "sns.violinplot(x=df_train['item_condition_id'], y=np.log(y))\n"
   ]
  },
  {
   "cell_type": "code",
   "execution_count": 29,
   "id": "92dd8e4c",
   "metadata": {},
   "outputs": [],
   "source": [
    "#Category name to 3 different info\n",
    "sc_1 = []\n",
    "sc_2 = []\n",
    "sc_3 = []\n",
    "for feature in (df['category_name'].values):\n",
    "    fs = feature.split('/')\n",
    "    a,b,c = fs[0], fs[1], ' '.join(fs[2:])\n",
    "    sc_1.append(a)\n",
    "    sc_2.append(b)\n",
    "    sc_3.append(c)\n",
    "df['gender'] = sc_1\n",
    "df['item'] = sc_2\n",
    "df['type_item'] = sc_3"
   ]
  },
  {
   "cell_type": "code",
   "execution_count": 30,
   "id": "9996297c",
   "metadata": {},
   "outputs": [
    {
     "data": {
      "text/plain": [
       "{'Women'}"
      ]
     },
     "execution_count": 30,
     "metadata": {},
     "output_type": "execute_result"
    }
   ],
   "source": [
    "set(df.gender)"
   ]
  },
  {
   "cell_type": "code",
   "execution_count": 31,
   "id": "065675d7",
   "metadata": {},
   "outputs": [
    {
     "name": "stderr",
     "output_type": "stream",
     "text": [
      "/var/folders/36/2w68f_916m5_4nk8vnz8j2yw0000gn/T/ipykernel_24504/3491173165.py:1: FutureWarning: In a future version of pandas all arguments of concat except for the argument 'objs' will be keyword-only\n",
      "  df_train_with_price = pd.concat([df_train, y], 1)\n"
     ]
    }
   ],
   "source": [
    "df_train_with_price = pd.concat([df_train, y], 1)\n",
    "df_train_with_price['log_price'] = np.log1p(df_train_with_price.price)"
   ]
  },
  {
   "cell_type": "code",
   "execution_count": 32,
   "id": "98c80760",
   "metadata": {},
   "outputs": [
    {
     "data": {
      "text/plain": [
       "Text(28.82265625000001, 0.5, 'PDF of log of price')"
      ]
     },
     "execution_count": 32,
     "metadata": {},
     "output_type": "execute_result"
    },
    {
     "data": {
      "image/png": "[encoded data removed]",
      "text/plain": [
       "<Figure size 410.625x360 with 1 Axes>"
      ]
     },
     "metadata": {
      "needs_background": "light"
     },
     "output_type": "display_data"
    }
   ],
   "source": [
    "sns.FacetGrid(df_train_with_price, hue=\"shipping\", height=5).map(sns.histplot, 'log_price').add_legend();\n",
    "plt.title('comparing the log of price distribution of products with different shipping.\\n')\n",
    "plt.ylabel('PDF of log of price')"
   ]
  },
  {
   "cell_type": "code",
   "execution_count": 33,
   "id": "8e992649",
   "metadata": {},
   "outputs": [],
   "source": [
    "\n",
    "ps = PorterStemmer()"
   ]
  },
  {
   "cell_type": "code",
   "execution_count": 34,
   "id": "d1286cfe",
   "metadata": {},
   "outputs": [],
   "source": [
    "def text_pre_processing(article):\n",
    "    corpus = []\n",
    "    review = re.sub('[^a-zA-Z0-9]', ' ', article) #Remove everything(Punctuations, Numbers, etc... except the alphabetical words)\n",
    "    review = review.lower()                     #lowercasing the words\n",
    "    review = review.split()\n",
    "    review = [ps.stem(word) for word in review if not word in stopwords.words('english')] #removing stopwords and lemmatizing\n",
    "    review = ' '.join(review)\n",
    "    corpus.append(review)\n",
    "\n",
    "    try: return corpus[0]\n",
    "    except: return 0 #Returning final preprocessed article string"
   ]
  },
  {
   "cell_type": "code",
   "execution_count": 35,
   "id": "528fc41f",
   "metadata": {},
   "outputs": [],
   "source": [
    "df['item_description'] = df['item_description'].astype(str)\n",
    "df['name'] = df['name'].astype(str)"
   ]
  },
  {
   "cell_type": "code",
   "execution_count": 36,
   "id": "60b9489f",
   "metadata": {},
   "outputs": [
    {
     "data": {
      "text/plain": [
       "dtype('O')"
      ]
     },
     "execution_count": 36,
     "metadata": {},
     "output_type": "execute_result"
    }
   ],
   "source": [
    "df.name.dtype"
   ]
  },
  {
   "cell_type": "code",
   "execution_count": 37,
   "id": "c25c5d8f",
   "metadata": {},
   "outputs": [],
   "source": [
    "#df['item_description'] = df['item_description'].apply(lambda row: text_pre_processing(row))"
   ]
  },
  {
   "cell_type": "code",
   "execution_count": 38,
   "id": "8b13afb8",
   "metadata": {},
   "outputs": [],
   "source": [
    "#df['name'] = df['name'].apply(lambda row: text_pre_processing(row))"
   ]
  },
  {
   "cell_type": "code",
   "execution_count": 39,
   "id": "17cfd37d",
   "metadata": {},
   "outputs": [],
   "source": [
    "def calc_char_len(x): # Calculating the character length of each text data\n",
    "    try: return len(x)\n",
    "    except: return 0\n",
    "\n",
    "def calc_word_len(x): # Calculating the word length of each text data\n",
    "    try: return len(x.split(' '))\n",
    "    except: return 0"
   ]
  },
  {
   "cell_type": "code",
   "execution_count": 40,
   "id": "1d8449c4",
   "metadata": {},
   "outputs": [],
   "source": [
    "df['id_char_length'] = df['item_description'].apply(lambda x:calc_char_len(x))"
   ]
  },
  {
   "cell_type": "code",
   "execution_count": 41,
   "id": "e82db1e0",
   "metadata": {},
   "outputs": [],
   "source": [
    "df['id_word_length'] = df['item_description'].apply(lambda x:calc_word_len(x))"
   ]
  },
  {
   "cell_type": "code",
   "execution_count": 42,
   "id": "f8a7d128",
   "metadata": {},
   "outputs": [],
   "source": [
    "df['name_length'] = df['name'].apply(lambda x:len(x))"
   ]
  },
  {
   "cell_type": "code",
   "execution_count": 43,
   "id": "ee07deba",
   "metadata": {},
   "outputs": [],
   "source": [
    "df['log_id_char_length'] = df['id_char_length'].apply(lambda x:np.log1p(x))"
   ]
  },
  {
   "cell_type": "code",
   "execution_count": 44,
   "id": "4a6b0666",
   "metadata": {},
   "outputs": [],
   "source": [
    "# creating new feature -> log(1 + character length of item_description)\n",
    "df['log_id_word_length'] = df['id_word_length'].apply(lambda x:np.log1p(x)) "
   ]
  },
  {
   "cell_type": "code",
   "execution_count": 45,
   "id": "f887aa09",
   "metadata": {},
   "outputs": [
    {
     "data": {
      "text/plain": [
       "Index(['id', 'name', 'item_condition_id', 'category_name', 'brand_name',\n",
       "       'shipping', 'seller_id', 'item_description', 'gender', 'item',\n",
       "       'type_item', 'id_char_length', 'id_word_length', 'name_length',\n",
       "       'log_id_char_length', 'log_id_word_length'],\n",
       "      dtype='object')"
      ]
     },
     "execution_count": 45,
     "metadata": {},
     "output_type": "execute_result"
    }
   ],
   "source": [
    "df.columns"
   ]
  },
  {
   "cell_type": "code",
   "execution_count": 46,
   "id": "1bdb611e",
   "metadata": {},
   "outputs": [
    {
     "name": "stdout",
     "output_type": "stream",
     "text": [
      "Encodings\n"
     ]
    }
   ],
   "source": [
    "print(\"Encodings\")\n",
    "count = CountVectorizer(min_df = 15)\n",
    "X_name = count.fit_transform(df[\"name\"])"
   ]
  },
  {
   "cell_type": "code",
   "execution_count": 47,
   "id": "2d5ecd53",
   "metadata": {},
   "outputs": [
    {
     "name": "stdout",
     "output_type": "stream",
     "text": [
      "Running Description encoders\n"
     ]
    }
   ],
   "source": [
    "print(\"Running Description encoders\")\n",
    "\n",
    "count_descp = TfidfVectorizer(max_features = 5000, ngram_range = (1,3),stop_words = \"english\")\n",
    "\n",
    "X_descp = count_descp.fit_transform(df[\"item_description\"])"
   ]
  },
  {
   "cell_type": "code",
   "execution_count": 48,
   "id": "8e3e55ce",
   "metadata": {},
   "outputs": [
    {
     "name": "stdout",
     "output_type": "stream",
     "text": [
      "Running Brand encoders\n"
     ]
    }
   ],
   "source": [
    "print(\"Running Brand encoders\")\n",
    "vect_brand = LabelBinarizer(sparse_output=True)\n",
    "X_brand = vect_brand.fit_transform(df[\"brand_name\"])"
   ]
  },
  {
   "cell_type": "code",
   "execution_count": 49,
   "id": "6e96ec43",
   "metadata": {},
   "outputs": [
    {
     "data": {
      "text/plain": [
       "(100189, 1242)"
      ]
     },
     "execution_count": 49,
     "metadata": {},
     "output_type": "execute_result"
    }
   ],
   "source": [
    "X_brand.shape"
   ]
  },
  {
   "cell_type": "code",
   "execution_count": 50,
   "id": "73dc0514",
   "metadata": {},
   "outputs": [
    {
     "name": "stdout",
     "output_type": "stream",
     "text": [
      "Running Dummy Encoders\n"
     ]
    }
   ],
   "source": [
    "print(\"Running Dummy Encoders\")\n",
    "X_dummies = scipy.sparse.csr_matrix(pd.get_dummies(df[['item_condition_id','gender','shipping','item', 'type_item']], sparse = True).values)"
   ]
  },
  {
   "cell_type": "code",
   "execution_count": 51,
   "id": "28dc0b39",
   "metadata": {},
   "outputs": [],
   "source": [
    "X_left = scipy.sparse.csr_matrix(df[['id_char_length', 'id_word_length',\n",
    "       'name_length', 'log_id_char_length', 'log_id_word_length']])"
   ]
  },
  {
   "cell_type": "code",
   "execution_count": 52,
   "id": "e0e6539b",
   "metadata": {},
   "outputs": [
    {
     "name": "stdout",
     "output_type": "stream",
     "text": [
      "[(100189, 37), (100189, 1803), (100189, 5000), (100189, 1242), (100189, 5)]\n"
     ]
    }
   ],
   "source": [
    "X = scipy.sparse.hstack((X_dummies, \n",
    "                         X_descp,\n",
    "                         X_brand,\n",
    "                         X_left,\n",
    "                         X_name)).tocsr()\n",
    "\n",
    "print([X_dummies.shape, X_name.shape, X_descp.shape, X_brand.shape, X_left.shape])"
   ]
  },
  {
   "cell_type": "code",
   "execution_count": 54,
   "id": "a897a40c",
   "metadata": {},
   "outputs": [
    {
     "data": {
      "text/plain": [
       "\"X = df[['item_condition_id', 'shipping', 'seller_id', 'item', 'type_item', 'id_char_length', 'id_word_length',\\n       'name_length', 'log_id_char_length', 'log_id_word_length']]\\ny = df['price']\""
      ]
     },
     "execution_count": 54,
     "metadata": {},
     "output_type": "execute_result"
    }
   ],
   "source": [
    "'''X = df[['item_condition_id', 'shipping', 'seller_id', 'item', 'type_item', 'id_char_length', 'id_word_length',\n",
    "       'name_length', 'log_id_char_length', 'log_id_word_length']]\n",
    "y = df['price']'''"
   ]
  },
  {
   "cell_type": "code",
   "execution_count": 55,
   "id": "ab7d3bdd",
   "metadata": {},
   "outputs": [
    {
     "data": {
      "text/plain": [
       "\"X = pd.get_dummies(X, columns = ['item_condition_id','item', 'type_item'])\\nX\""
      ]
     },
     "execution_count": 55,
     "metadata": {},
     "output_type": "execute_result"
    }
   ],
   "source": [
    "'''X = pd.get_dummies(X, columns = ['item_condition_id','item', 'type_item'])\n",
    "X'''"
   ]
  },
  {
   "cell_type": "code",
   "execution_count": 56,
   "id": "f301fad9",
   "metadata": {},
   "outputs": [
    {
     "name": "stdout",
     "output_type": "stream",
     "text": [
      "Shape of X: (100189, 8087)\n",
      "Shape of y: (68400,)\n"
     ]
    }
   ],
   "source": [
    "print('Shape of X:', X.shape)\n",
    "print('Shape of y:', y.shape)"
   ]
  },
  {
   "cell_type": "code",
   "execution_count": 57,
   "id": "d63690ed",
   "metadata": {},
   "outputs": [],
   "source": [
    "\n",
    "\n",
    "model1 = Ridge(alpha=1)"
   ]
  },
  {
   "cell_type": "code",
   "execution_count": 58,
   "id": "cea0080e",
   "metadata": {},
   "outputs": [],
   "source": [
    "def loss(y_train, y_pred):\n",
    "    loss = np.sqrt(mean_squared_log_error(y_train, abs(y_pred)))\n",
    "    return loss"
   ]
  },
  {
   "cell_type": "code",
   "execution_count": 59,
   "id": "989e1f4d",
   "metadata": {},
   "outputs": [],
   "source": [
    "\n",
    "#rmsle = make_scorer(loss, greater_is_better = True)"
   ]
  },
  {
   "cell_type": "code",
   "execution_count": 60,
   "id": "c443efb6",
   "metadata": {},
   "outputs": [],
   "source": [
    "#cross_val_score(model1, X, y, cv = 10, scoring=rmsle).mean()\n"
   ]
  },
  {
   "cell_type": "code",
   "execution_count": 61,
   "id": "bc78b234",
   "metadata": {},
   "outputs": [],
   "source": [
    "\n",
    "X_train, X_test, y_train, y_test = train_test_split(X[:len(df_train)], y, test_size=0.25, random_state=42)\n"
   ]
  },
  {
   "cell_type": "code",
   "execution_count": 62,
   "id": "941bb355",
   "metadata": {},
   "outputs": [
    {
     "data": {
      "text/plain": [
       "0.4980915734698779"
      ]
     },
     "execution_count": 62,
     "metadata": {},
     "output_type": "execute_result"
    }
   ],
   "source": [
    "\n",
    "model1.fit(X_train, np.log1p(y_train))\n",
    "y_pred1 = model1.predict(X_test)\n",
    "loss(y_test, np.expm1(y_pred1))\n"
   ]
  },
  {
   "cell_type": "code",
   "execution_count": 64,
   "id": "c5ea45f8",
   "metadata": {},
   "outputs": [
    {
     "data": {
      "text/plain": [
       "Ridge(alpha=1)"
      ]
     },
     "execution_count": 64,
     "metadata": {},
     "output_type": "execute_result"
    }
   ],
   "source": [
    "model1.fit(X[:len(df_train)], y)"
   ]
  },
  {
   "cell_type": "code",
   "execution_count": 65,
   "id": "59eec250",
   "metadata": {},
   "outputs": [],
   "source": [
    "preds = model1.predict(X[len(df_train):])"
   ]
  },
  {
   "cell_type": "code",
   "execution_count": 79,
   "id": "95678d79",
   "metadata": {},
   "outputs": [],
   "source": [
    "pickle.dump(model1, open('model.pkl', 'wb'))"
   ]
  },
  {
   "cell_type": "code",
   "execution_count": 68,
   "id": "5aab0973",
   "metadata": {},
   "outputs": [],
   "source": [
    "'''preds = pd.DataFrame(preds, columns = ['price'])'''"
   ]
  },
  {
   "cell_type": "code",
   "execution_count": 69,
   "id": "93cc8657",
   "metadata": {},
   "outputs": [
    {
     "name": "stderr",
     "output_type": "stream",
     "text": [
      "/var/folders/36/2w68f_916m5_4nk8vnz8j2yw0000gn/T/ipykernel_24504/4216499688.py:1: FutureWarning: In a future version of pandas all arguments of concat except for the argument 'objs' will be keyword-only\n",
      "  df_test = pd.concat([df_test, preds], 1)\n"
     ]
    }
   ],
   "source": [
    "'''df_test = pd.concat([df_test, preds], 1)'''"
   ]
  },
  {
   "cell_type": "code",
   "execution_count": 70,
   "id": "4337ff67",
   "metadata": {},
   "outputs": [],
   "source": [
    "'''submission = df_test[['id', 'price']]'''"
   ]
  },
  {
   "cell_type": "code",
   "execution_count": 75,
   "id": "20b01770",
   "metadata": {},
   "outputs": [],
   "source": [
    "'''submission.to_csv('submission.csv', index = False)'''"
   ]
  },
  {
   "cell_type": "code",
   "execution_count": null,
   "id": "2cb416de",
   "metadata": {},
   "outputs": [],
   "source": []
  },
  {
   "cell_type": "code",
   "execution_count": 81,
   "id": "2cb0ab68",
   "metadata": {},
   "outputs": [],
   "source": [
    "'''\n",
    "model2 = CatBoostRegressor(random_state=42, thread_count=4, verbose=100,\n",
    "                          iterations=500, loss_function='RMSE', learning_rate=0.4, early_stopping_rounds = 20)'''"
   ]
  },
  {
   "cell_type": "code",
   "execution_count": 82,
   "id": "68e3fb5e",
   "metadata": {},
   "outputs": [
    {
     "name": "stdout",
     "output_type": "stream",
     "text": [
      "0:\tlearn: 0.6908797\ttotal: 513ms\tremaining: 4m 16s\n",
      "100:\tlearn: 0.4835638\ttotal: 23s\tremaining: 1m 31s\n",
      "200:\tlearn: 0.4547540\ttotal: 47.4s\tremaining: 1m 10s\n",
      "300:\tlearn: 0.4350435\ttotal: 1m 12s\tremaining: 48.2s\n",
      "400:\tlearn: 0.4181669\ttotal: 1m 39s\tremaining: 24.5s\n",
      "499:\tlearn: 0.4044805\ttotal: 2m 5s\tremaining: 0us\n"
     ]
    }
   ],
   "source": [
    "'''model2.fit(X_train, np.log1p(y_train))\n",
    "y_pred2 = model2.predict(X_test)\n",
    "'''"
   ]
  },
  {
   "cell_type": "code",
   "execution_count": 83,
   "id": "9f251e85",
   "metadata": {},
   "outputs": [
    {
     "data": {
      "text/plain": [
       "0.496628907839792"
      ]
     },
     "execution_count": 83,
     "metadata": {},
     "output_type": "execute_result"
    }
   ],
   "source": [
    "'''loss(y_test, np.expm1(y_pred2))'''"
   ]
  },
  {
   "cell_type": "code",
   "execution_count": null,
   "id": "db182fdf",
   "metadata": {},
   "outputs": [],
   "source": [
    "'''np.expm1(y_pred1)'''"
   ]
  },
  {
   "cell_type": "code",
   "execution_count": null,
   "id": "e5f4707a",
   "metadata": {},
   "outputs": [],
   "source": []
  }
 ],
 "metadata": {
  "kernelspec": {
   "display_name": "Python 3 (ipykernel)",
   "language": "python",
   "name": "python3"
  },
  "language_info": {
   "codemirror_mode": {
    "name": "ipython",
    "version": 3
   },
   "file_extension": ".py",
   "mimetype": "text/x-python",
   "name": "python",
   "nbconvert_exporter": "python",
   "pygments_lexer": "ipython3",
   "version": "3.9.5"
  }
 },
 "nbformat": 4,
 "nbformat_minor": 5
}

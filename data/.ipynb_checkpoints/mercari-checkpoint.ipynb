{
 "cells": [
  {
   "cell_type": "code",
   "execution_count": 1,
   "id": "b7ff3191",
   "metadata": {},
   "outputs": [],
   "source": [
    "import pandas as pd\n",
    "import numpy as np\n",
    "import seaborn as sns\n",
    "import matplotlib.pyplot as plt\n",
    "import scipy\n",
    "\n",
    "from sklearn.preprocessing import StandardScaler\n",
    "from sklearn.metrics import mean_squared_log_error\n",
    "from sklearn.model_selection import cross_val_score\n",
    "from sklearn.model_selection import train_test_split\n",
    "from sklearn.metrics import make_scorer\n",
    "from sklearn.linear_model import Ridge\n",
    "from sklearn.ensemble import RandomForestRegressor\n",
    "from sklearn.svm import LinearSVR\n",
    "\n",
    "from sklearn.feature_extraction.text import CountVectorizer, TfidfVectorizer\n",
    "\n",
    "import nltk\n",
    "import re\n",
    "from nltk.stem import PorterStemmer\n",
    "from nltk.corpus import stopwords\n",
    "\n",
    "\n",
    "#Left to deal with 'name', 'brand_name', 'seller_id', 'item_description'"
   ]
  },
  {
   "cell_type": "code",
   "execution_count": 5,
   "id": "9f62ed6a",
   "metadata": {},
   "outputs": [],
   "source": [
    "df = pd.read_csv('mercari_train.csv')"
   ]
  },
  {
   "cell_type": "code",
   "execution_count": 4,
   "id": "86533307",
   "metadata": {},
   "outputs": [
    {
     "data": {
      "text/plain": [
       "(68400, 9)"
      ]
     },
     "execution_count": 4,
     "metadata": {},
     "output_type": "execute_result"
    }
   ],
   "source": [
    "df.shape"
   ]
  },
  {
   "cell_type": "code",
   "execution_count": 5,
   "id": "14f244fe",
   "metadata": {},
   "outputs": [
    {
     "data": {
      "text/plain": [
       "Index(['id', 'name', 'item_condition_id', 'category_name', 'brand_name',\n",
       "       'price', 'shipping', 'seller_id', 'item_description'],\n",
       "      dtype='object')"
      ]
     },
     "execution_count": 5,
     "metadata": {},
     "output_type": "execute_result"
    }
   ],
   "source": [
    "df.columns"
   ]
  },
  {
   "cell_type": "code",
   "execution_count": 6,
   "id": "56ebfdd8",
   "metadata": {},
   "outputs": [
    {
     "data": {
      "text/plain": [
       "id                    int64\n",
       "name                 object\n",
       "item_condition_id     int64\n",
       "category_name        object\n",
       "brand_name           object\n",
       "price                 int64\n",
       "shipping              int64\n",
       "seller_id             int64\n",
       "item_description     object\n",
       "dtype: object"
      ]
     },
     "execution_count": 6,
     "metadata": {},
     "output_type": "execute_result"
    }
   ],
   "source": [
    "df.dtypes"
   ]
  },
  {
   "cell_type": "code",
   "execution_count": 7,
   "id": "36f731ac",
   "metadata": {},
   "outputs": [
    {
     "data": {
      "text/plain": [
       "id                   0.000000\n",
       "name                 0.000000\n",
       "item_condition_id    0.000000\n",
       "category_name        0.000000\n",
       "brand_name           0.313816\n",
       "price                0.000000\n",
       "shipping             0.000000\n",
       "seller_id            0.000000\n",
       "item_description     0.099561\n",
       "dtype: float64"
      ]
     },
     "execution_count": 7,
     "metadata": {},
     "output_type": "execute_result"
    }
   ],
   "source": [
    "df.isna().mean()"
   ]
  },
  {
   "cell_type": "code",
   "execution_count": 25,
   "id": "484c03dc",
   "metadata": {},
   "outputs": [],
   "source": [
    "df.brand_name = df.brand_name.replace(np.nan, 'unknown')"
   ]
  },
  {
   "cell_type": "code",
   "execution_count": 26,
   "id": "561c44cc",
   "metadata": {},
   "outputs": [
    {
     "data": {
      "text/plain": [
       "id                   0.000000\n",
       "name                 0.000000\n",
       "item_condition_id    0.000000\n",
       "category_name        0.000000\n",
       "brand_name           0.000000\n",
       "price                0.000000\n",
       "shipping             0.000000\n",
       "seller_id            0.000000\n",
       "item_description     0.099561\n",
       "dtype: float64"
      ]
     },
     "execution_count": 26,
     "metadata": {},
     "output_type": "execute_result"
    }
   ],
   "source": [
    "df.isna().mean()"
   ]
  },
  {
   "cell_type": "code",
   "execution_count": 27,
   "id": "36b9101e",
   "metadata": {},
   "outputs": [
    {
     "data": {
      "text/html": [
       "<div>\n",
       "<style scoped>\n",
       "    .dataframe tbody tr th:only-of-type {\n",
       "        vertical-align: middle;\n",
       "    }\n",
       "\n",
       "    .dataframe tbody tr th {\n",
       "        vertical-align: top;\n",
       "    }\n",
       "\n",
       "    .dataframe thead th {\n",
       "        text-align: right;\n",
       "    }\n",
       "</style>\n",
       "<table border=\"1\" class=\"dataframe\">\n",
       "  <thead>\n",
       "    <tr style=\"text-align: right;\">\n",
       "      <th></th>\n",
       "      <th>id</th>\n",
       "      <th>name</th>\n",
       "      <th>item_condition_id</th>\n",
       "      <th>category_name</th>\n",
       "      <th>brand_name</th>\n",
       "      <th>price</th>\n",
       "      <th>shipping</th>\n",
       "      <th>seller_id</th>\n",
       "      <th>item_description</th>\n",
       "    </tr>\n",
       "  </thead>\n",
       "  <tbody>\n",
       "    <tr>\n",
       "      <th>0</th>\n",
       "      <td>17</td>\n",
       "      <td>Hold Alyssa Frye Harness boots 12R, Sz 7</td>\n",
       "      <td>3</td>\n",
       "      <td>Women/Shoes/Boots</td>\n",
       "      <td>Frye</td>\n",
       "      <td>79</td>\n",
       "      <td>1</td>\n",
       "      <td>211140753</td>\n",
       "      <td>Good used condition Women's Fyre harness boots...</td>\n",
       "    </tr>\n",
       "    <tr>\n",
       "      <th>1</th>\n",
       "      <td>19</td>\n",
       "      <td>Steve Madden booties</td>\n",
       "      <td>3</td>\n",
       "      <td>Women/Shoes/Boots</td>\n",
       "      <td>Steve Madden</td>\n",
       "      <td>31</td>\n",
       "      <td>0</td>\n",
       "      <td>3874531266</td>\n",
       "      <td>The brand is actually \"Steven\" by Steve Madden...</td>\n",
       "    </tr>\n",
       "    <tr>\n",
       "      <th>2</th>\n",
       "      <td>42</td>\n",
       "      <td>BCBG Tan Booties</td>\n",
       "      <td>1</td>\n",
       "      <td>Women/Shoes/Boots</td>\n",
       "      <td>unknown</td>\n",
       "      <td>48</td>\n",
       "      <td>0</td>\n",
       "      <td>8341537216</td>\n",
       "      <td>Brand new! Does not include the box.</td>\n",
       "    </tr>\n",
       "    <tr>\n",
       "      <th>3</th>\n",
       "      <td>45</td>\n",
       "      <td>NWT Sorel Caribou boots size 8.5</td>\n",
       "      <td>1</td>\n",
       "      <td>Women/Shoes/Boots</td>\n",
       "      <td>unknown</td>\n",
       "      <td>85</td>\n",
       "      <td>0</td>\n",
       "      <td>4040379892</td>\n",
       "      <td>New in box. Size 8.5</td>\n",
       "    </tr>\n",
       "    <tr>\n",
       "      <th>4</th>\n",
       "      <td>58</td>\n",
       "      <td>NIB Hunter Tiffany Mint Boots Size 5</td>\n",
       "      <td>1</td>\n",
       "      <td>Women/Shoes/Boots</td>\n",
       "      <td>Hunter</td>\n",
       "      <td>200</td>\n",
       "      <td>0</td>\n",
       "      <td>19216599</td>\n",
       "      <td>Brand new never worn only flaw is as you can s...</td>\n",
       "    </tr>\n",
       "  </tbody>\n",
       "</table>\n",
       "</div>"
      ],
      "text/plain": [
       "   id                                      name  item_condition_id  \\\n",
       "0  17  Hold Alyssa Frye Harness boots 12R, Sz 7                  3   \n",
       "1  19                      Steve Madden booties                  3   \n",
       "2  42                          BCBG Tan Booties                  1   \n",
       "3  45          NWT Sorel Caribou boots size 8.5                  1   \n",
       "4  58      NIB Hunter Tiffany Mint Boots Size 5                  1   \n",
       "\n",
       "       category_name    brand_name  price  shipping   seller_id  \\\n",
       "0  Women/Shoes/Boots          Frye     79         1   211140753   \n",
       "1  Women/Shoes/Boots  Steve Madden     31         0  3874531266   \n",
       "2  Women/Shoes/Boots       unknown     48         0  8341537216   \n",
       "3  Women/Shoes/Boots       unknown     85         0  4040379892   \n",
       "4  Women/Shoes/Boots        Hunter    200         0    19216599   \n",
       "\n",
       "                                    item_description  \n",
       "0  Good used condition Women's Fyre harness boots...  \n",
       "1  The brand is actually \"Steven\" by Steve Madden...  \n",
       "2               Brand new! Does not include the box.  \n",
       "3                               New in box. Size 8.5  \n",
       "4  Brand new never worn only flaw is as you can s...  "
      ]
     },
     "execution_count": 27,
     "metadata": {},
     "output_type": "execute_result"
    }
   ],
   "source": [
    "df.head()"
   ]
  },
  {
   "cell_type": "code",
   "execution_count": 10,
   "id": "c7591f93",
   "metadata": {},
   "outputs": [
    {
     "data": {
      "text/plain": [
       "68400"
      ]
     },
     "execution_count": 10,
     "metadata": {},
     "output_type": "execute_result"
    }
   ],
   "source": [
    "#id is unique\n",
    "len(set(df.id))"
   ]
  },
  {
   "cell_type": "code",
   "execution_count": 11,
   "id": "0f3ee3c4",
   "metadata": {},
   "outputs": [
    {
     "data": {
      "text/plain": [
       "59282"
      ]
     },
     "execution_count": 11,
     "metadata": {},
     "output_type": "execute_result"
    }
   ],
   "source": [
    "#name is not unique\n",
    "len(set(df.name))"
   ]
  },
  {
   "cell_type": "code",
   "execution_count": 12,
   "id": "36025ec2",
   "metadata": {},
   "outputs": [
    {
     "data": {
      "text/plain": [
       "5"
      ]
     },
     "execution_count": 12,
     "metadata": {},
     "output_type": "execute_result"
    }
   ],
   "source": [
    "len(set(df.item_condition_id))"
   ]
  },
  {
   "cell_type": "code",
   "execution_count": 13,
   "id": "445a2be0",
   "metadata": {},
   "outputs": [
    {
     "data": {
      "text/plain": [
       "<AxesSubplot:xlabel='item_condition_id', ylabel='count'>"
      ]
     },
     "execution_count": 13,
     "metadata": {},
     "output_type": "execute_result"
    },
    {
     "data": {
      "image/png": "[encoded data removed]",
      "text/plain": [
       "<Figure size 432x288 with 1 Axes>"
      ]
     },
     "metadata": {
      "needs_background": "light"
     },
     "output_type": "display_data"
    }
   ],
   "source": [
    "sns.countplot(x = 'item_condition_id', data = df)"
   ]
  },
  {
   "cell_type": "code",
   "execution_count": 14,
   "id": "307ec1a5",
   "metadata": {},
   "outputs": [
    {
     "data": {
      "text/plain": [
       "23"
      ]
     },
     "execution_count": 14,
     "metadata": {},
     "output_type": "execute_result"
    }
   ],
   "source": [
    "len(set(df.category_name))"
   ]
  },
  {
   "cell_type": "code",
   "execution_count": 20,
   "id": "a2a4f7a1",
   "metadata": {},
   "outputs": [
    {
     "data": {
      "text/plain": [
       "Women/Athletic apparel/Pants, tights, leggings    9371\n",
       "Women/Tops & blouses/T-shirts                     8061\n",
       "Women/Tops & blouses/Blouse                       3616\n",
       "Women/Tops & blouses/Tank, cami                   3483\n",
       "Women/Shoes/Boots                                 3243\n",
       "Women/Dresses/Above knee, mini                    3145\n",
       "Women/Athletic apparel/Shorts                     3064\n",
       "Women/Underwear/Bras                              2908\n",
       "Women/Dresses/Knee-length                         2841\n",
       "Women/Women's handbags/Shoulder Bags              2661\n",
       "Women/Shoes/Sandals                               2607\n",
       "Women/Jewelry/Necklaces                           2504\n",
       "Women/Women's accessories/Wallets                 2309\n",
       "Women/Shoes/Athletic                              2190\n",
       "Women/Swimwear/Two-piece                          2176\n",
       "Women/Athletic apparel/Shirts & tops              2092\n",
       "Women/Jewelry/Bracelets                           2084\n",
       "Women/Jeans/Slim, skinny                          1896\n",
       "Women/Shoes/Fashion sneakers                      1826\n",
       "Women/Sweaters/Hooded                             1717\n",
       "Women/Jewelry/Earrings                            1652\n",
       "Women/Tops & blouses/Tunic                        1477\n",
       "Women/Sweaters/Cardigan                           1477\n",
       "Name: category_name, dtype: int64"
      ]
     },
     "execution_count": 20,
     "metadata": {},
     "output_type": "execute_result"
    }
   ],
   "source": [
    "df.category_name.value_counts()"
   ]
  },
  {
   "cell_type": "code",
   "execution_count": 21,
   "id": "d5c24b40",
   "metadata": {},
   "outputs": [
    {
     "data": {
      "text/plain": [
       "42161"
      ]
     },
     "execution_count": 21,
     "metadata": {},
     "output_type": "execute_result"
    }
   ],
   "source": [
    "len(set(df.seller_id))"
   ]
  },
  {
   "cell_type": "code",
   "execution_count": 22,
   "id": "139c7aa7",
   "metadata": {},
   "outputs": [
    {
     "data": {
      "text/plain": [
       "1084"
      ]
     },
     "execution_count": 22,
     "metadata": {},
     "output_type": "execute_result"
    }
   ],
   "source": [
    "len(set(df.brand_name))"
   ]
  },
  {
   "cell_type": "code",
   "execution_count": 28,
   "id": "73bd3c13",
   "metadata": {},
   "outputs": [
    {
     "data": {
      "text/plain": [
       "unknown               21465\n",
       "PINK                   4617\n",
       "LuLaRoe                4447\n",
       "Nike                   3515\n",
       "Victoria's Secret      3360\n",
       "                      ...  \n",
       "Wrapper                   1\n",
       "Canyon River Blues        1\n",
       "Bellatrix                 1\n",
       "Fang                      1\n",
       "Alice + Olivia            1\n",
       "Name: brand_name, Length: 1084, dtype: int64"
      ]
     },
     "execution_count": 28,
     "metadata": {},
     "output_type": "execute_result"
    }
   ],
   "source": [
    "df.brand_name.value_counts()"
   ]
  },
  {
   "cell_type": "code",
   "execution_count": 29,
   "id": "ff8628ed",
   "metadata": {},
   "outputs": [
    {
     "data": {
      "text/plain": [
       "2"
      ]
     },
     "execution_count": 29,
     "metadata": {},
     "output_type": "execute_result"
    }
   ],
   "source": [
    "len(set(df.shipping))"
   ]
  },
  {
   "cell_type": "code",
   "execution_count": 30,
   "id": "a70b3610",
   "metadata": {},
   "outputs": [
    {
     "data": {
      "text/html": [
       "<div>\n",
       "<style scoped>\n",
       "    .dataframe tbody tr th:only-of-type {\n",
       "        vertical-align: middle;\n",
       "    }\n",
       "\n",
       "    .dataframe tbody tr th {\n",
       "        vertical-align: top;\n",
       "    }\n",
       "\n",
       "    .dataframe thead th {\n",
       "        text-align: right;\n",
       "    }\n",
       "</style>\n",
       "<table border=\"1\" class=\"dataframe\">\n",
       "  <thead>\n",
       "    <tr style=\"text-align: right;\">\n",
       "      <th></th>\n",
       "      <th>id</th>\n",
       "      <th>name</th>\n",
       "      <th>item_condition_id</th>\n",
       "      <th>category_name</th>\n",
       "      <th>brand_name</th>\n",
       "      <th>price</th>\n",
       "      <th>shipping</th>\n",
       "      <th>seller_id</th>\n",
       "      <th>item_description</th>\n",
       "    </tr>\n",
       "  </thead>\n",
       "  <tbody>\n",
       "    <tr>\n",
       "      <th>0</th>\n",
       "      <td>17</td>\n",
       "      <td>Hold Alyssa Frye Harness boots 12R, Sz 7</td>\n",
       "      <td>3</td>\n",
       "      <td>Women/Shoes/Boots</td>\n",
       "      <td>Frye</td>\n",
       "      <td>79</td>\n",
       "      <td>1</td>\n",
       "      <td>211140753</td>\n",
       "      <td>Good used condition Women's Fyre harness boots...</td>\n",
       "    </tr>\n",
       "    <tr>\n",
       "      <th>1</th>\n",
       "      <td>19</td>\n",
       "      <td>Steve Madden booties</td>\n",
       "      <td>3</td>\n",
       "      <td>Women/Shoes/Boots</td>\n",
       "      <td>Steve Madden</td>\n",
       "      <td>31</td>\n",
       "      <td>0</td>\n",
       "      <td>3874531266</td>\n",
       "      <td>The brand is actually \"Steven\" by Steve Madden...</td>\n",
       "    </tr>\n",
       "    <tr>\n",
       "      <th>2</th>\n",
       "      <td>42</td>\n",
       "      <td>BCBG Tan Booties</td>\n",
       "      <td>1</td>\n",
       "      <td>Women/Shoes/Boots</td>\n",
       "      <td>unknown</td>\n",
       "      <td>48</td>\n",
       "      <td>0</td>\n",
       "      <td>8341537216</td>\n",
       "      <td>Brand new! Does not include the box.</td>\n",
       "    </tr>\n",
       "    <tr>\n",
       "      <th>3</th>\n",
       "      <td>45</td>\n",
       "      <td>NWT Sorel Caribou boots size 8.5</td>\n",
       "      <td>1</td>\n",
       "      <td>Women/Shoes/Boots</td>\n",
       "      <td>unknown</td>\n",
       "      <td>85</td>\n",
       "      <td>0</td>\n",
       "      <td>4040379892</td>\n",
       "      <td>New in box. Size 8.5</td>\n",
       "    </tr>\n",
       "    <tr>\n",
       "      <th>4</th>\n",
       "      <td>58</td>\n",
       "      <td>NIB Hunter Tiffany Mint Boots Size 5</td>\n",
       "      <td>1</td>\n",
       "      <td>Women/Shoes/Boots</td>\n",
       "      <td>Hunter</td>\n",
       "      <td>200</td>\n",
       "      <td>0</td>\n",
       "      <td>19216599</td>\n",
       "      <td>Brand new never worn only flaw is as you can s...</td>\n",
       "    </tr>\n",
       "  </tbody>\n",
       "</table>\n",
       "</div>"
      ],
      "text/plain": [
       "   id                                      name  item_condition_id  \\\n",
       "0  17  Hold Alyssa Frye Harness boots 12R, Sz 7                  3   \n",
       "1  19                      Steve Madden booties                  3   \n",
       "2  42                          BCBG Tan Booties                  1   \n",
       "3  45          NWT Sorel Caribou boots size 8.5                  1   \n",
       "4  58      NIB Hunter Tiffany Mint Boots Size 5                  1   \n",
       "\n",
       "       category_name    brand_name  price  shipping   seller_id  \\\n",
       "0  Women/Shoes/Boots          Frye     79         1   211140753   \n",
       "1  Women/Shoes/Boots  Steve Madden     31         0  3874531266   \n",
       "2  Women/Shoes/Boots       unknown     48         0  8341537216   \n",
       "3  Women/Shoes/Boots       unknown     85         0  4040379892   \n",
       "4  Women/Shoes/Boots        Hunter    200         0    19216599   \n",
       "\n",
       "                                    item_description  \n",
       "0  Good used condition Women's Fyre harness boots...  \n",
       "1  The brand is actually \"Steven\" by Steve Madden...  \n",
       "2               Brand new! Does not include the box.  \n",
       "3                               New in box. Size 8.5  \n",
       "4  Brand new never worn only flaw is as you can s...  "
      ]
     },
     "execution_count": 30,
     "metadata": {},
     "output_type": "execute_result"
    }
   ],
   "source": [
    "df.head()"
   ]
  },
  {
   "cell_type": "code",
   "execution_count": 37,
   "id": "4b3badbc",
   "metadata": {},
   "outputs": [
    {
     "data": {
      "text/html": [
       "<div>\n",
       "<style scoped>\n",
       "    .dataframe tbody tr th:only-of-type {\n",
       "        vertical-align: middle;\n",
       "    }\n",
       "\n",
       "    .dataframe tbody tr th {\n",
       "        vertical-align: top;\n",
       "    }\n",
       "\n",
       "    .dataframe thead tr th {\n",
       "        text-align: left;\n",
       "    }\n",
       "\n",
       "    .dataframe thead tr:last-of-type th {\n",
       "        text-align: right;\n",
       "    }\n",
       "</style>\n",
       "<table border=\"1\" class=\"dataframe\">\n",
       "  <thead>\n",
       "    <tr>\n",
       "      <th></th>\n",
       "      <th></th>\n",
       "      <th colspan=\"3\" halign=\"left\">price</th>\n",
       "    </tr>\n",
       "    <tr>\n",
       "      <th></th>\n",
       "      <th></th>\n",
       "      <th>mean</th>\n",
       "      <th>median</th>\n",
       "      <th>std</th>\n",
       "    </tr>\n",
       "    <tr>\n",
       "      <th>category_name</th>\n",
       "      <th>brand_name</th>\n",
       "      <th></th>\n",
       "      <th></th>\n",
       "      <th></th>\n",
       "    </tr>\n",
       "  </thead>\n",
       "  <tbody>\n",
       "    <tr>\n",
       "      <th rowspan=\"5\" valign=\"top\">Women/Athletic apparel/Pants, tights, leggings</th>\n",
       "      <th>90 Degree By Reflex</th>\n",
       "      <td>10.166667</td>\n",
       "      <td>7.0</td>\n",
       "      <td>6.306082</td>\n",
       "    </tr>\n",
       "    <tr>\n",
       "      <th>Abercrombie &amp; Fitch</th>\n",
       "      <td>13.000000</td>\n",
       "      <td>10.0</td>\n",
       "      <td>4.509250</td>\n",
       "    </tr>\n",
       "    <tr>\n",
       "      <th>Active</th>\n",
       "      <td>5.000000</td>\n",
       "      <td>5.0</td>\n",
       "      <td>NaN</td>\n",
       "    </tr>\n",
       "    <tr>\n",
       "      <th>Adidas</th>\n",
       "      <td>21.403846</td>\n",
       "      <td>18.0</td>\n",
       "      <td>15.023942</td>\n",
       "    </tr>\n",
       "    <tr>\n",
       "      <th>Alexander McQueen</th>\n",
       "      <td>50.000000</td>\n",
       "      <td>50.0</td>\n",
       "      <td>NaN</td>\n",
       "    </tr>\n",
       "    <tr>\n",
       "      <th>...</th>\n",
       "      <th>...</th>\n",
       "      <td>...</td>\n",
       "      <td>...</td>\n",
       "      <td>...</td>\n",
       "    </tr>\n",
       "    <tr>\n",
       "      <th rowspan=\"5\" valign=\"top\">Women/Women's handbags/Shoulder Bags</th>\n",
       "      <th>b. makowsky</th>\n",
       "      <td>36.000000</td>\n",
       "      <td>36.0</td>\n",
       "      <td>12.727922</td>\n",
       "    </tr>\n",
       "    <tr>\n",
       "      <th>maje</th>\n",
       "      <td>75.000000</td>\n",
       "      <td>75.0</td>\n",
       "      <td>NaN</td>\n",
       "    </tr>\n",
       "    <tr>\n",
       "      <th>prAna</th>\n",
       "      <td>11.000000</td>\n",
       "      <td>11.0</td>\n",
       "      <td>NaN</td>\n",
       "    </tr>\n",
       "    <tr>\n",
       "      <th>tokidoki</th>\n",
       "      <td>62.500000</td>\n",
       "      <td>62.5</td>\n",
       "      <td>24.748737</td>\n",
       "    </tr>\n",
       "    <tr>\n",
       "      <th>unknown</th>\n",
       "      <td>29.543561</td>\n",
       "      <td>18.5</td>\n",
       "      <td>39.842503</td>\n",
       "    </tr>\n",
       "  </tbody>\n",
       "</table>\n",
       "<p>3594 rows × 3 columns</p>\n",
       "</div>"
      ],
      "text/plain": [
       "                                                                        price  \\\n",
       "                                                                         mean   \n",
       "category_name                                  brand_name                       \n",
       "Women/Athletic apparel/Pants, tights, leggings 90 Degree By Reflex  10.166667   \n",
       "                                               Abercrombie & Fitch  13.000000   \n",
       "                                               Active                5.000000   \n",
       "                                               Adidas               21.403846   \n",
       "                                               Alexander McQueen    50.000000   \n",
       "...                                                                       ...   \n",
       "Women/Women's handbags/Shoulder Bags           b. makowsky          36.000000   \n",
       "                                               maje                 75.000000   \n",
       "                                               prAna                11.000000   \n",
       "                                               tokidoki             62.500000   \n",
       "                                               unknown              29.543561   \n",
       "\n",
       "                                                                           \\\n",
       "                                                                   median   \n",
       "category_name                                  brand_name                   \n",
       "Women/Athletic apparel/Pants, tights, leggings 90 Degree By Reflex    7.0   \n",
       "                                               Abercrombie & Fitch   10.0   \n",
       "                                               Active                 5.0   \n",
       "                                               Adidas                18.0   \n",
       "                                               Alexander McQueen     50.0   \n",
       "...                                                                   ...   \n",
       "Women/Women's handbags/Shoulder Bags           b. makowsky           36.0   \n",
       "                                               maje                  75.0   \n",
       "                                               prAna                 11.0   \n",
       "                                               tokidoki              62.5   \n",
       "                                               unknown               18.5   \n",
       "\n",
       "                                                                               \n",
       "                                                                          std  \n",
       "category_name                                  brand_name                      \n",
       "Women/Athletic apparel/Pants, tights, leggings 90 Degree By Reflex   6.306082  \n",
       "                                               Abercrombie & Fitch   4.509250  \n",
       "                                               Active                     NaN  \n",
       "                                               Adidas               15.023942  \n",
       "                                               Alexander McQueen          NaN  \n",
       "...                                                                       ...  \n",
       "Women/Women's handbags/Shoulder Bags           b. makowsky          12.727922  \n",
       "                                               maje                       NaN  \n",
       "                                               prAna                      NaN  \n",
       "                                               tokidoki             24.748737  \n",
       "                                               unknown              39.842503  \n",
       "\n",
       "[3594 rows x 3 columns]"
      ]
     },
     "execution_count": 37,
     "metadata": {},
     "output_type": "execute_result"
    }
   ],
   "source": [
    "df[['brand_name', 'category_name', 'price']].groupby(['category_name', 'brand_name']).agg(['mean', 'median', 'std'])"
   ]
  },
  {
   "cell_type": "code",
   "execution_count": 39,
   "id": "93cfc01c",
   "metadata": {},
   "outputs": [
    {
     "name": "stdout",
     "output_type": "stream",
     "text": [
      "22.881915204678364\n",
      "15.0\n",
      "28.61315127779221\n",
      "3\n",
      "1375\n",
      "10.749309216178608\n",
      "290.7738263363416\n",
      "0    10\n",
      "dtype: int64\n"
     ]
    }
   ],
   "source": [
    "#peaked, positively skewed\n",
    "print(df.price.mean())\n",
    "print(df.price.median())\n",
    "print(df.price.std())\n",
    "print(df.price.min())\n",
    "print(df.price.max())\n",
    "print(df.price.skew())\n",
    "print(df.price.kurt())\n",
    "print(df.price.mode())"
   ]
  },
  {
   "cell_type": "code",
   "execution_count": 40,
   "id": "fdd864e3",
   "metadata": {},
   "outputs": [],
   "source": [
    "df.item_description = df.item_description + '' + df.name + df.category_name"
   ]
  },
  {
   "cell_type": "code",
   "execution_count": 84,
   "id": "0fef1a76",
   "metadata": {},
   "outputs": [],
   "source": [
    "df['log_price'] = np.log1p(df.price)"
   ]
  },
  {
   "cell_type": "code",
   "execution_count": 85,
   "id": "10bf7391",
   "metadata": {},
   "outputs": [
    {
     "data": {
      "text/plain": [
       "<AxesSubplot:xlabel='item_condition_id', ylabel='log_price'>"
      ]
     },
     "execution_count": 85,
     "metadata": {},
     "output_type": "execute_result"
    },
    {
     "data": {
      "image/png": "[encoded data removed]",
      "text/plain": [
       "<Figure size 432x288 with 1 Axes>"
      ]
     },
     "metadata": {
      "needs_background": "light"
     },
     "output_type": "display_data"
    }
   ],
   "source": [
    "sns.boxplot(x='item_condition_id', y='log_price', data=df)"
   ]
  },
  {
   "cell_type": "code",
   "execution_count": 47,
   "id": "961103b4",
   "metadata": {},
   "outputs": [
    {
     "data": {
      "text/plain": [
       "<AxesSubplot:xlabel='category_name', ylabel='log_price'>"
      ]
     },
     "execution_count": 47,
     "metadata": {},
     "output_type": "execute_result"
    },
    {
     "data": {
      "image/png": "[encoded data removed]",
      "text/plain": [
       "<Figure size 432x288 with 1 Axes>"
      ]
     },
     "metadata": {
      "needs_background": "light"
     },
     "output_type": "display_data"
    }
   ],
   "source": [
    "sns.boxplot(x='category_name', y='log_price', data=df)"
   ]
  },
  {
   "cell_type": "code",
   "execution_count": 48,
   "id": "f7003854",
   "metadata": {},
   "outputs": [
    {
     "data": {
      "text/plain": [
       "<AxesSubplot:xlabel='item_condition_id', ylabel='log_price'>"
      ]
     },
     "execution_count": 48,
     "metadata": {},
     "output_type": "execute_result"
    },
    {
     "data": {
      "image/png": "[encoded data removed]",
      "text/plain": [
       "<Figure size 432x288 with 1 Axes>"
      ]
     },
     "metadata": {
      "needs_background": "light"
     },
     "output_type": "display_data"
    }
   ],
   "source": [
    "sns.violinplot(x='item_condition_id', y='log_price', data=df)\n"
   ]
  },
  {
   "cell_type": "code",
   "execution_count": 50,
   "id": "92dd8e4c",
   "metadata": {},
   "outputs": [],
   "source": [
    "#Category name to 3 different info\n",
    "sc_1 = []\n",
    "sc_2 = []\n",
    "sc_3 = []\n",
    "for feature in (df['category_name'].values):\n",
    "    fs = feature.split('/')\n",
    "    a,b,c = fs[0], fs[1], ' '.join(fs[2:])\n",
    "    sc_1.append(a)\n",
    "    sc_2.append(b)\n",
    "    sc_3.append(c)\n",
    "df['gender'] = sc_1\n",
    "df['item'] = sc_2\n",
    "df['type_item'] = sc_3"
   ]
  },
  {
   "cell_type": "code",
   "execution_count": 54,
   "id": "9996297c",
   "metadata": {},
   "outputs": [
    {
     "data": {
      "text/plain": [
       "{'Women'}"
      ]
     },
     "execution_count": 54,
     "metadata": {},
     "output_type": "execute_result"
    }
   ],
   "source": [
    "set(df.gender)"
   ]
  },
  {
   "cell_type": "code",
   "execution_count": 106,
   "id": "98c80760",
   "metadata": {},
   "outputs": [
    {
     "data": {
      "text/plain": [
       "Text(28.82265625000001, 0.5, 'PDF of log of price')"
      ]
     },
     "execution_count": 106,
     "metadata": {},
     "output_type": "execute_result"
    },
    {
     "data": {
      "image/png": "[encoded data removed]",
      "text/plain": [
       "<Figure size 410.625x360 with 1 Axes>"
      ]
     },
     "metadata": {
      "needs_background": "light"
     },
     "output_type": "display_data"
    }
   ],
   "source": [
    "sns.FacetGrid(df, hue=\"shipping\", height=5).map(sns.histplot, 'log_price').add_legend();\n",
    "plt.title('comparing the log of price distribution of products with different shipping.\\n')\n",
    "plt.ylabel('PDF of log of price')"
   ]
  },
  {
   "cell_type": "code",
   "execution_count": 64,
   "id": "8e992649",
   "metadata": {},
   "outputs": [],
   "source": [
    "\n",
    "ps = PorterStemmer()"
   ]
  },
  {
   "cell_type": "code",
   "execution_count": 100,
   "id": "d1286cfe",
   "metadata": {},
   "outputs": [],
   "source": [
    "def text_pre_processing(article):\n",
    "    corpus = []\n",
    "    review = re.sub('[^a-zA-Z0-9]', ' ', article) #Remove everything(Punctuations, Numbers, etc... except the alphabetical words)\n",
    "    review = review.lower()                     #lowercasing the words\n",
    "    review = review.split()\n",
    "    review = [ps.stem(word) for word in review if not word in stopwords.words('english')] #removing stopwords and lemmatizing\n",
    "    review = ' '.join(review)\n",
    "    corpus.append(review)\n",
    "\n",
    "    try: return corpus[0]\n",
    "    except: return 0 #Returning final preprocessed article string"
   ]
  },
  {
   "cell_type": "code",
   "execution_count": 102,
   "id": "1525d987",
   "metadata": {},
   "outputs": [
    {
     "data": {
      "text/plain": [
       "'good use condit women fyre har boot light wear heel creas distress wear leather natur distress leather distress everi wear light wear toe box pleas ask question want happi purchas hold alyssa frye har boot 12r sz 7women shoe boot'"
      ]
     },
     "execution_count": 102,
     "metadata": {},
     "output_type": "execute_result"
    }
   ],
   "source": [
    "text_pre_processing(df['item_description'][0])"
   ]
  },
  {
   "cell_type": "code",
   "execution_count": 121,
   "id": "528fc41f",
   "metadata": {},
   "outputs": [],
   "source": [
    "df['item_description'] = df['item_description'].astype(str)\n",
    "df['name'] = df['name'].astype(str)"
   ]
  },
  {
   "cell_type": "code",
   "execution_count": 119,
   "id": "c25c5d8f",
   "metadata": {},
   "outputs": [],
   "source": [
    "df['item_description'] = df['item_description'].apply(lambda row: text_pre_processing(row))"
   ]
  },
  {
   "cell_type": "code",
   "execution_count": 122,
   "id": "8b13afb8",
   "metadata": {},
   "outputs": [],
   "source": [
    "df['name'] = df['name'].apply(lambda row: text_pre_processing(row))"
   ]
  },
  {
   "cell_type": "code",
   "execution_count": 123,
   "id": "17cfd37d",
   "metadata": {},
   "outputs": [],
   "source": [
    "def calc_char_len(x): # Calculating the character length of each text data\n",
    "    try: return len(x)\n",
    "    except: return 0\n",
    "\n",
    "def calc_word_len(x): # Calculating the word length of each text data\n",
    "    try: return len(x.split(' '))\n",
    "    except: return 0"
   ]
  },
  {
   "cell_type": "code",
   "execution_count": 124,
   "id": "1d8449c4",
   "metadata": {},
   "outputs": [],
   "source": [
    "df['id_char_length'] = df['item_description'].apply(lambda x:calc_char_len(x))"
   ]
  },
  {
   "cell_type": "code",
   "execution_count": 125,
   "id": "e82db1e0",
   "metadata": {},
   "outputs": [],
   "source": [
    "df['id_word_length'] = df['item_description'].apply(lambda x:calc_word_len(x))"
   ]
  },
  {
   "cell_type": "code",
   "execution_count": 126,
   "id": "f8a7d128",
   "metadata": {},
   "outputs": [],
   "source": [
    "df['name_length'] = df['name'].apply(lambda x:len(x))"
   ]
  },
  {
   "cell_type": "code",
   "execution_count": 127,
   "id": "ee07deba",
   "metadata": {},
   "outputs": [],
   "source": [
    "df['log_id_char_length'] = df['id_char_length'].apply(lambda x:np.log1p(x))"
   ]
  },
  {
   "cell_type": "code",
   "execution_count": 128,
   "id": "4a6b0666",
   "metadata": {},
   "outputs": [],
   "source": [
    "# creating new feature -> log(1 + character length of item_description)\n",
    "df['log_id_word_length'] = df['id_word_length'].apply(lambda x:np.log1p(x)) "
   ]
  },
  {
   "cell_type": "code",
   "execution_count": 129,
   "id": "9cb093da",
   "metadata": {},
   "outputs": [
    {
     "data": {
      "text/html": [
       "<div>\n",
       "<style scoped>\n",
       "    .dataframe tbody tr th:only-of-type {\n",
       "        vertical-align: middle;\n",
       "    }\n",
       "\n",
       "    .dataframe tbody tr th {\n",
       "        vertical-align: top;\n",
       "    }\n",
       "\n",
       "    .dataframe thead th {\n",
       "        text-align: right;\n",
       "    }\n",
       "</style>\n",
       "<table border=\"1\" class=\"dataframe\">\n",
       "  <thead>\n",
       "    <tr style=\"text-align: right;\">\n",
       "      <th></th>\n",
       "      <th>id</th>\n",
       "      <th>name</th>\n",
       "      <th>item_condition_id</th>\n",
       "      <th>category_name</th>\n",
       "      <th>brand_name</th>\n",
       "      <th>price</th>\n",
       "      <th>shipping</th>\n",
       "      <th>seller_id</th>\n",
       "      <th>item_description</th>\n",
       "      <th>log_price</th>\n",
       "      <th>gender</th>\n",
       "      <th>item</th>\n",
       "      <th>type_item</th>\n",
       "      <th>id_char_length</th>\n",
       "      <th>id_word_length</th>\n",
       "      <th>name_length</th>\n",
       "      <th>log_id_char_length</th>\n",
       "      <th>log_id_word_length</th>\n",
       "    </tr>\n",
       "  </thead>\n",
       "  <tbody>\n",
       "    <tr>\n",
       "      <th>0</th>\n",
       "      <td>17</td>\n",
       "      <td>hold alyssa frye har boot 12r sz 7</td>\n",
       "      <td>3</td>\n",
       "      <td>Women/Shoes/Boots</td>\n",
       "      <td>Frye</td>\n",
       "      <td>79</td>\n",
       "      <td>1</td>\n",
       "      <td>211140753</td>\n",
       "      <td>good use condit women fyre har boot light wear...</td>\n",
       "      <td>4.382027</td>\n",
       "      <td>Women</td>\n",
       "      <td>Shoes</td>\n",
       "      <td>Boots</td>\n",
       "      <td>229</td>\n",
       "      <td>40</td>\n",
       "      <td>34</td>\n",
       "      <td>5.438079</td>\n",
       "      <td>3.713572</td>\n",
       "    </tr>\n",
       "    <tr>\n",
       "      <th>1</th>\n",
       "      <td>19</td>\n",
       "      <td>steve madden booti</td>\n",
       "      <td>3</td>\n",
       "      <td>Women/Shoes/Boots</td>\n",
       "      <td>Steve Madden</td>\n",
       "      <td>31</td>\n",
       "      <td>0</td>\n",
       "      <td>3874531266</td>\n",
       "      <td>brand actual steven steve madden steve madden ...</td>\n",
       "      <td>3.465736</td>\n",
       "      <td>Women</td>\n",
       "      <td>Shoes</td>\n",
       "      <td>Boots</td>\n",
       "      <td>172</td>\n",
       "      <td>28</td>\n",
       "      <td>18</td>\n",
       "      <td>5.153292</td>\n",
       "      <td>3.367296</td>\n",
       "    </tr>\n",
       "    <tr>\n",
       "      <th>2</th>\n",
       "      <td>42</td>\n",
       "      <td>bcbg tan booti</td>\n",
       "      <td>1</td>\n",
       "      <td>Women/Shoes/Boots</td>\n",
       "      <td>unknown</td>\n",
       "      <td>48</td>\n",
       "      <td>0</td>\n",
       "      <td>8341537216</td>\n",
       "      <td>brand new includ box bcbg tan bootieswomen sho...</td>\n",
       "      <td>3.891820</td>\n",
       "      <td>Women</td>\n",
       "      <td>Shoes</td>\n",
       "      <td>Boots</td>\n",
       "      <td>52</td>\n",
       "      <td>9</td>\n",
       "      <td>14</td>\n",
       "      <td>3.970292</td>\n",
       "      <td>2.302585</td>\n",
       "    </tr>\n",
       "    <tr>\n",
       "      <th>3</th>\n",
       "      <td>45</td>\n",
       "      <td>nwt sorel carib boot size 8 5</td>\n",
       "      <td>1</td>\n",
       "      <td>Women/Shoes/Boots</td>\n",
       "      <td>unknown</td>\n",
       "      <td>85</td>\n",
       "      <td>0</td>\n",
       "      <td>4040379892</td>\n",
       "      <td>new box size 8 5nwt sorel carib boot size 8 5w...</td>\n",
       "      <td>4.454347</td>\n",
       "      <td>Women</td>\n",
       "      <td>Shoes</td>\n",
       "      <td>Boots</td>\n",
       "      <td>60</td>\n",
       "      <td>13</td>\n",
       "      <td>29</td>\n",
       "      <td>4.110874</td>\n",
       "      <td>2.639057</td>\n",
       "    </tr>\n",
       "    <tr>\n",
       "      <th>4</th>\n",
       "      <td>58</td>\n",
       "      <td>nib hunter tiffani mint boot size 5</td>\n",
       "      <td>1</td>\n",
       "      <td>Women/Shoes/Boots</td>\n",
       "      <td>Hunter</td>\n",
       "      <td>200</td>\n",
       "      <td>0</td>\n",
       "      <td>19216599</td>\n",
       "      <td>brand new never worn flaw see pictur color wea...</td>\n",
       "      <td>5.303305</td>\n",
       "      <td>Women</td>\n",
       "      <td>Shoes</td>\n",
       "      <td>Boots</td>\n",
       "      <td>150</td>\n",
       "      <td>29</td>\n",
       "      <td>35</td>\n",
       "      <td>5.017280</td>\n",
       "      <td>3.401197</td>\n",
       "    </tr>\n",
       "    <tr>\n",
       "      <th>...</th>\n",
       "      <td>...</td>\n",
       "      <td>...</td>\n",
       "      <td>...</td>\n",
       "      <td>...</td>\n",
       "      <td>...</td>\n",
       "      <td>...</td>\n",
       "      <td>...</td>\n",
       "      <td>...</td>\n",
       "      <td>...</td>\n",
       "      <td>...</td>\n",
       "      <td>...</td>\n",
       "      <td>...</td>\n",
       "      <td>...</td>\n",
       "      <td>...</td>\n",
       "      <td>...</td>\n",
       "      <td>...</td>\n",
       "      <td>...</td>\n",
       "      <td>...</td>\n",
       "    </tr>\n",
       "    <tr>\n",
       "      <th>68395</th>\n",
       "      <td>275932</td>\n",
       "      <td>lularo santa tc leg</td>\n",
       "      <td>1</td>\n",
       "      <td>Women/Athletic apparel/Pants, tights, leggings</td>\n",
       "      <td>unknown</td>\n",
       "      <td>70</td>\n",
       "      <td>0</td>\n",
       "      <td>3707078945</td>\n",
       "      <td>new holidaylularo santa tc leggingswomen athle...</td>\n",
       "      <td>4.262680</td>\n",
       "      <td>Women</td>\n",
       "      <td>Athletic apparel</td>\n",
       "      <td>Pants, tights, leggings</td>\n",
       "      <td>70</td>\n",
       "      <td>10</td>\n",
       "      <td>19</td>\n",
       "      <td>4.262680</td>\n",
       "      <td>2.397895</td>\n",
       "    </tr>\n",
       "    <tr>\n",
       "      <th>68396</th>\n",
       "      <td>276733</td>\n",
       "      <td>gymshark flex v3 marin blue blueberri</td>\n",
       "      <td>1</td>\n",
       "      <td>Women/Athletic apparel/Pants, tights, leggings</td>\n",
       "      <td>Gymshark</td>\n",
       "      <td>70</td>\n",
       "      <td>0</td>\n",
       "      <td>147673680</td>\n",
       "      <td>size xs never worn new tag sold site new speci...</td>\n",
       "      <td>4.262680</td>\n",
       "      <td>Women</td>\n",
       "      <td>Athletic apparel</td>\n",
       "      <td>Pants, tights, leggings</td>\n",
       "      <td>207</td>\n",
       "      <td>38</td>\n",
       "      <td>37</td>\n",
       "      <td>5.337538</td>\n",
       "      <td>3.663562</td>\n",
       "    </tr>\n",
       "    <tr>\n",
       "      <th>68397</th>\n",
       "      <td>278558</td>\n",
       "      <td>lularo hipster lion tc</td>\n",
       "      <td>2</td>\n",
       "      <td>Women/Athletic apparel/Pants, tights, leggings</td>\n",
       "      <td>unknown</td>\n",
       "      <td>70</td>\n",
       "      <td>1</td>\n",
       "      <td>909608125</td>\n",
       "      <td>new tag never tri got wrong sizelularo hipster...</td>\n",
       "      <td>4.262680</td>\n",
       "      <td>Women</td>\n",
       "      <td>Athletic apparel</td>\n",
       "      <td>Pants, tights, leggings</td>\n",
       "      <td>89</td>\n",
       "      <td>15</td>\n",
       "      <td>22</td>\n",
       "      <td>4.499810</td>\n",
       "      <td>2.772589</td>\n",
       "    </tr>\n",
       "    <tr>\n",
       "      <th>68398</th>\n",
       "      <td>279691</td>\n",
       "      <td>lularo bnwt os bird wire</td>\n",
       "      <td>1</td>\n",
       "      <td>Women/Athletic apparel/Pants, tights, leggings</td>\n",
       "      <td>unknown</td>\n",
       "      <td>70</td>\n",
       "      <td>1</td>\n",
       "      <td>2434157708</td>\n",
       "      <td>major unicorn os float around super soft made ...</td>\n",
       "      <td>4.262680</td>\n",
       "      <td>Women</td>\n",
       "      <td>Athletic apparel</td>\n",
       "      <td>Pants, tights, leggings</td>\n",
       "      <td>126</td>\n",
       "      <td>21</td>\n",
       "      <td>24</td>\n",
       "      <td>4.844187</td>\n",
       "      <td>3.091042</td>\n",
       "    </tr>\n",
       "    <tr>\n",
       "      <th>68399</th>\n",
       "      <td>279814</td>\n",
       "      <td>lularo neon demask os leg</td>\n",
       "      <td>1</td>\n",
       "      <td>Women/Athletic apparel/Pants, tights, leggings</td>\n",
       "      <td>Independent</td>\n",
       "      <td>70</td>\n",
       "      <td>0</td>\n",
       "      <td>3259941114</td>\n",
       "      <td>brand new tag lularo neon demask one size fit ...</td>\n",
       "      <td>4.262680</td>\n",
       "      <td>Women</td>\n",
       "      <td>Athletic apparel</td>\n",
       "      <td>Pants, tights, leggings</td>\n",
       "      <td>136</td>\n",
       "      <td>24</td>\n",
       "      <td>25</td>\n",
       "      <td>4.919981</td>\n",
       "      <td>3.218876</td>\n",
       "    </tr>\n",
       "  </tbody>\n",
       "</table>\n",
       "<p>68400 rows × 18 columns</p>\n",
       "</div>"
      ],
      "text/plain": [
       "           id                                   name  item_condition_id  \\\n",
       "0          17     hold alyssa frye har boot 12r sz 7                  3   \n",
       "1          19                     steve madden booti                  3   \n",
       "2          42                         bcbg tan booti                  1   \n",
       "3          45          nwt sorel carib boot size 8 5                  1   \n",
       "4          58    nib hunter tiffani mint boot size 5                  1   \n",
       "...       ...                                    ...                ...   \n",
       "68395  275932                    lularo santa tc leg                  1   \n",
       "68396  276733  gymshark flex v3 marin blue blueberri                  1   \n",
       "68397  278558                 lularo hipster lion tc                  2   \n",
       "68398  279691               lularo bnwt os bird wire                  1   \n",
       "68399  279814              lularo neon demask os leg                  1   \n",
       "\n",
       "                                        category_name    brand_name  price  \\\n",
       "0                                   Women/Shoes/Boots          Frye     79   \n",
       "1                                   Women/Shoes/Boots  Steve Madden     31   \n",
       "2                                   Women/Shoes/Boots       unknown     48   \n",
       "3                                   Women/Shoes/Boots       unknown     85   \n",
       "4                                   Women/Shoes/Boots        Hunter    200   \n",
       "...                                               ...           ...    ...   \n",
       "68395  Women/Athletic apparel/Pants, tights, leggings       unknown     70   \n",
       "68396  Women/Athletic apparel/Pants, tights, leggings      Gymshark     70   \n",
       "68397  Women/Athletic apparel/Pants, tights, leggings       unknown     70   \n",
       "68398  Women/Athletic apparel/Pants, tights, leggings       unknown     70   \n",
       "68399  Women/Athletic apparel/Pants, tights, leggings   Independent     70   \n",
       "\n",
       "       shipping   seller_id  \\\n",
       "0             1   211140753   \n",
       "1             0  3874531266   \n",
       "2             0  8341537216   \n",
       "3             0  4040379892   \n",
       "4             0    19216599   \n",
       "...         ...         ...   \n",
       "68395         0  3707078945   \n",
       "68396         0   147673680   \n",
       "68397         1   909608125   \n",
       "68398         1  2434157708   \n",
       "68399         0  3259941114   \n",
       "\n",
       "                                        item_description  log_price gender  \\\n",
       "0      good use condit women fyre har boot light wear...   4.382027  Women   \n",
       "1      brand actual steven steve madden steve madden ...   3.465736  Women   \n",
       "2      brand new includ box bcbg tan bootieswomen sho...   3.891820  Women   \n",
       "3      new box size 8 5nwt sorel carib boot size 8 5w...   4.454347  Women   \n",
       "4      brand new never worn flaw see pictur color wea...   5.303305  Women   \n",
       "...                                                  ...        ...    ...   \n",
       "68395  new holidaylularo santa tc leggingswomen athle...   4.262680  Women   \n",
       "68396  size xs never worn new tag sold site new speci...   4.262680  Women   \n",
       "68397  new tag never tri got wrong sizelularo hipster...   4.262680  Women   \n",
       "68398  major unicorn os float around super soft made ...   4.262680  Women   \n",
       "68399  brand new tag lularo neon demask one size fit ...   4.262680  Women   \n",
       "\n",
       "                   item                type_item  id_char_length  \\\n",
       "0                 Shoes                    Boots             229   \n",
       "1                 Shoes                    Boots             172   \n",
       "2                 Shoes                    Boots              52   \n",
       "3                 Shoes                    Boots              60   \n",
       "4                 Shoes                    Boots             150   \n",
       "...                 ...                      ...             ...   \n",
       "68395  Athletic apparel  Pants, tights, leggings              70   \n",
       "68396  Athletic apparel  Pants, tights, leggings             207   \n",
       "68397  Athletic apparel  Pants, tights, leggings              89   \n",
       "68398  Athletic apparel  Pants, tights, leggings             126   \n",
       "68399  Athletic apparel  Pants, tights, leggings             136   \n",
       "\n",
       "       id_word_length  name_length  log_id_char_length  log_id_word_length  \n",
       "0                  40           34            5.438079            3.713572  \n",
       "1                  28           18            5.153292            3.367296  \n",
       "2                   9           14            3.970292            2.302585  \n",
       "3                  13           29            4.110874            2.639057  \n",
       "4                  29           35            5.017280            3.401197  \n",
       "...               ...          ...                 ...                 ...  \n",
       "68395              10           19            4.262680            2.397895  \n",
       "68396              38           37            5.337538            3.663562  \n",
       "68397              15           22            4.499810            2.772589  \n",
       "68398              21           24            4.844187            3.091042  \n",
       "68399              24           25            4.919981            3.218876  \n",
       "\n",
       "[68400 rows x 18 columns]"
      ]
     },
     "execution_count": 129,
     "metadata": {},
     "output_type": "execute_result"
    }
   ],
   "source": [
    "df"
   ]
  },
  {
   "cell_type": "code",
   "execution_count": 133,
   "id": "f887aa09",
   "metadata": {},
   "outputs": [
    {
     "data": {
      "text/plain": [
       "Index(['id', 'name', 'item_condition_id', 'category_name', 'brand_name',\n",
       "       'price', 'shipping', 'seller_id', 'item_description', 'log_price',\n",
       "       'gender', 'item', 'type_item', 'id_char_length', 'id_word_length',\n",
       "       'name_length', 'log_id_char_length', 'log_id_word_length'],\n",
       "      dtype='object')"
      ]
     },
     "execution_count": 133,
     "metadata": {},
     "output_type": "execute_result"
    }
   ],
   "source": [
    "df.columns"
   ]
  },
  {
   "cell_type": "code",
   "execution_count": 179,
   "id": "a897a40c",
   "metadata": {},
   "outputs": [],
   "source": [
    "X = df[['item_condition_id', 'shipping', 'seller_id', 'item', 'type_item', 'id_char_length', 'id_word_length',\n",
    "       'name_length', 'log_id_char_length', 'log_id_word_length']]\n",
    "y = df['price']"
   ]
  },
  {
   "cell_type": "code",
   "execution_count": 180,
   "id": "ab7d3bdd",
   "metadata": {},
   "outputs": [
    {
     "data": {
      "text/html": [
       "<div>\n",
       "<style scoped>\n",
       "    .dataframe tbody tr th:only-of-type {\n",
       "        vertical-align: middle;\n",
       "    }\n",
       "\n",
       "    .dataframe tbody tr th {\n",
       "        vertical-align: top;\n",
       "    }\n",
       "\n",
       "    .dataframe thead th {\n",
       "        text-align: right;\n",
       "    }\n",
       "</style>\n",
       "<table border=\"1\" class=\"dataframe\">\n",
       "  <thead>\n",
       "    <tr style=\"text-align: right;\">\n",
       "      <th></th>\n",
       "      <th>shipping</th>\n",
       "      <th>seller_id</th>\n",
       "      <th>id_char_length</th>\n",
       "      <th>id_word_length</th>\n",
       "      <th>name_length</th>\n",
       "      <th>log_id_char_length</th>\n",
       "      <th>log_id_word_length</th>\n",
       "      <th>item_condition_id_1</th>\n",
       "      <th>item_condition_id_2</th>\n",
       "      <th>item_condition_id_3</th>\n",
       "      <th>...</th>\n",
       "      <th>type_item_Sandals</th>\n",
       "      <th>type_item_Shirts &amp; tops</th>\n",
       "      <th>type_item_Shorts</th>\n",
       "      <th>type_item_Shoulder Bags</th>\n",
       "      <th>type_item_Slim, skinny</th>\n",
       "      <th>type_item_T-shirts</th>\n",
       "      <th>type_item_Tank, cami</th>\n",
       "      <th>type_item_Tunic</th>\n",
       "      <th>type_item_Two-piece</th>\n",
       "      <th>type_item_Wallets</th>\n",
       "    </tr>\n",
       "  </thead>\n",
       "  <tbody>\n",
       "    <tr>\n",
       "      <th>0</th>\n",
       "      <td>1</td>\n",
       "      <td>211140753</td>\n",
       "      <td>229</td>\n",
       "      <td>40</td>\n",
       "      <td>34</td>\n",
       "      <td>5.438079</td>\n",
       "      <td>3.713572</td>\n",
       "      <td>0</td>\n",
       "      <td>0</td>\n",
       "      <td>1</td>\n",
       "      <td>...</td>\n",
       "      <td>0</td>\n",
       "      <td>0</td>\n",
       "      <td>0</td>\n",
       "      <td>0</td>\n",
       "      <td>0</td>\n",
       "      <td>0</td>\n",
       "      <td>0</td>\n",
       "      <td>0</td>\n",
       "      <td>0</td>\n",
       "      <td>0</td>\n",
       "    </tr>\n",
       "    <tr>\n",
       "      <th>1</th>\n",
       "      <td>0</td>\n",
       "      <td>3874531266</td>\n",
       "      <td>172</td>\n",
       "      <td>28</td>\n",
       "      <td>18</td>\n",
       "      <td>5.153292</td>\n",
       "      <td>3.367296</td>\n",
       "      <td>0</td>\n",
       "      <td>0</td>\n",
       "      <td>1</td>\n",
       "      <td>...</td>\n",
       "      <td>0</td>\n",
       "      <td>0</td>\n",
       "      <td>0</td>\n",
       "      <td>0</td>\n",
       "      <td>0</td>\n",
       "      <td>0</td>\n",
       "      <td>0</td>\n",
       "      <td>0</td>\n",
       "      <td>0</td>\n",
       "      <td>0</td>\n",
       "    </tr>\n",
       "    <tr>\n",
       "      <th>2</th>\n",
       "      <td>0</td>\n",
       "      <td>8341537216</td>\n",
       "      <td>52</td>\n",
       "      <td>9</td>\n",
       "      <td>14</td>\n",
       "      <td>3.970292</td>\n",
       "      <td>2.302585</td>\n",
       "      <td>1</td>\n",
       "      <td>0</td>\n",
       "      <td>0</td>\n",
       "      <td>...</td>\n",
       "      <td>0</td>\n",
       "      <td>0</td>\n",
       "      <td>0</td>\n",
       "      <td>0</td>\n",
       "      <td>0</td>\n",
       "      <td>0</td>\n",
       "      <td>0</td>\n",
       "      <td>0</td>\n",
       "      <td>0</td>\n",
       "      <td>0</td>\n",
       "    </tr>\n",
       "    <tr>\n",
       "      <th>3</th>\n",
       "      <td>0</td>\n",
       "      <td>4040379892</td>\n",
       "      <td>60</td>\n",
       "      <td>13</td>\n",
       "      <td>29</td>\n",
       "      <td>4.110874</td>\n",
       "      <td>2.639057</td>\n",
       "      <td>1</td>\n",
       "      <td>0</td>\n",
       "      <td>0</td>\n",
       "      <td>...</td>\n",
       "      <td>0</td>\n",
       "      <td>0</td>\n",
       "      <td>0</td>\n",
       "      <td>0</td>\n",
       "      <td>0</td>\n",
       "      <td>0</td>\n",
       "      <td>0</td>\n",
       "      <td>0</td>\n",
       "      <td>0</td>\n",
       "      <td>0</td>\n",
       "    </tr>\n",
       "    <tr>\n",
       "      <th>4</th>\n",
       "      <td>0</td>\n",
       "      <td>19216599</td>\n",
       "      <td>150</td>\n",
       "      <td>29</td>\n",
       "      <td>35</td>\n",
       "      <td>5.017280</td>\n",
       "      <td>3.401197</td>\n",
       "      <td>1</td>\n",
       "      <td>0</td>\n",
       "      <td>0</td>\n",
       "      <td>...</td>\n",
       "      <td>0</td>\n",
       "      <td>0</td>\n",
       "      <td>0</td>\n",
       "      <td>0</td>\n",
       "      <td>0</td>\n",
       "      <td>0</td>\n",
       "      <td>0</td>\n",
       "      <td>0</td>\n",
       "      <td>0</td>\n",
       "      <td>0</td>\n",
       "    </tr>\n",
       "    <tr>\n",
       "      <th>...</th>\n",
       "      <td>...</td>\n",
       "      <td>...</td>\n",
       "      <td>...</td>\n",
       "      <td>...</td>\n",
       "      <td>...</td>\n",
       "      <td>...</td>\n",
       "      <td>...</td>\n",
       "      <td>...</td>\n",
       "      <td>...</td>\n",
       "      <td>...</td>\n",
       "      <td>...</td>\n",
       "      <td>...</td>\n",
       "      <td>...</td>\n",
       "      <td>...</td>\n",
       "      <td>...</td>\n",
       "      <td>...</td>\n",
       "      <td>...</td>\n",
       "      <td>...</td>\n",
       "      <td>...</td>\n",
       "      <td>...</td>\n",
       "      <td>...</td>\n",
       "    </tr>\n",
       "    <tr>\n",
       "      <th>68395</th>\n",
       "      <td>0</td>\n",
       "      <td>3707078945</td>\n",
       "      <td>70</td>\n",
       "      <td>10</td>\n",
       "      <td>19</td>\n",
       "      <td>4.262680</td>\n",
       "      <td>2.397895</td>\n",
       "      <td>1</td>\n",
       "      <td>0</td>\n",
       "      <td>0</td>\n",
       "      <td>...</td>\n",
       "      <td>0</td>\n",
       "      <td>0</td>\n",
       "      <td>0</td>\n",
       "      <td>0</td>\n",
       "      <td>0</td>\n",
       "      <td>0</td>\n",
       "      <td>0</td>\n",
       "      <td>0</td>\n",
       "      <td>0</td>\n",
       "      <td>0</td>\n",
       "    </tr>\n",
       "    <tr>\n",
       "      <th>68396</th>\n",
       "      <td>0</td>\n",
       "      <td>147673680</td>\n",
       "      <td>207</td>\n",
       "      <td>38</td>\n",
       "      <td>37</td>\n",
       "      <td>5.337538</td>\n",
       "      <td>3.663562</td>\n",
       "      <td>1</td>\n",
       "      <td>0</td>\n",
       "      <td>0</td>\n",
       "      <td>...</td>\n",
       "      <td>0</td>\n",
       "      <td>0</td>\n",
       "      <td>0</td>\n",
       "      <td>0</td>\n",
       "      <td>0</td>\n",
       "      <td>0</td>\n",
       "      <td>0</td>\n",
       "      <td>0</td>\n",
       "      <td>0</td>\n",
       "      <td>0</td>\n",
       "    </tr>\n",
       "    <tr>\n",
       "      <th>68397</th>\n",
       "      <td>1</td>\n",
       "      <td>909608125</td>\n",
       "      <td>89</td>\n",
       "      <td>15</td>\n",
       "      <td>22</td>\n",
       "      <td>4.499810</td>\n",
       "      <td>2.772589</td>\n",
       "      <td>0</td>\n",
       "      <td>1</td>\n",
       "      <td>0</td>\n",
       "      <td>...</td>\n",
       "      <td>0</td>\n",
       "      <td>0</td>\n",
       "      <td>0</td>\n",
       "      <td>0</td>\n",
       "      <td>0</td>\n",
       "      <td>0</td>\n",
       "      <td>0</td>\n",
       "      <td>0</td>\n",
       "      <td>0</td>\n",
       "      <td>0</td>\n",
       "    </tr>\n",
       "    <tr>\n",
       "      <th>68398</th>\n",
       "      <td>1</td>\n",
       "      <td>2434157708</td>\n",
       "      <td>126</td>\n",
       "      <td>21</td>\n",
       "      <td>24</td>\n",
       "      <td>4.844187</td>\n",
       "      <td>3.091042</td>\n",
       "      <td>1</td>\n",
       "      <td>0</td>\n",
       "      <td>0</td>\n",
       "      <td>...</td>\n",
       "      <td>0</td>\n",
       "      <td>0</td>\n",
       "      <td>0</td>\n",
       "      <td>0</td>\n",
       "      <td>0</td>\n",
       "      <td>0</td>\n",
       "      <td>0</td>\n",
       "      <td>0</td>\n",
       "      <td>0</td>\n",
       "      <td>0</td>\n",
       "    </tr>\n",
       "    <tr>\n",
       "      <th>68399</th>\n",
       "      <td>0</td>\n",
       "      <td>3259941114</td>\n",
       "      <td>136</td>\n",
       "      <td>24</td>\n",
       "      <td>25</td>\n",
       "      <td>4.919981</td>\n",
       "      <td>3.218876</td>\n",
       "      <td>1</td>\n",
       "      <td>0</td>\n",
       "      <td>0</td>\n",
       "      <td>...</td>\n",
       "      <td>0</td>\n",
       "      <td>0</td>\n",
       "      <td>0</td>\n",
       "      <td>0</td>\n",
       "      <td>0</td>\n",
       "      <td>0</td>\n",
       "      <td>0</td>\n",
       "      <td>0</td>\n",
       "      <td>0</td>\n",
       "      <td>0</td>\n",
       "    </tr>\n",
       "  </tbody>\n",
       "</table>\n",
       "<p>68400 rows × 46 columns</p>\n",
       "</div>"
      ],
      "text/plain": [
       "       shipping   seller_id  id_char_length  id_word_length  name_length  \\\n",
       "0             1   211140753             229              40           34   \n",
       "1             0  3874531266             172              28           18   \n",
       "2             0  8341537216              52               9           14   \n",
       "3             0  4040379892              60              13           29   \n",
       "4             0    19216599             150              29           35   \n",
       "...         ...         ...             ...             ...          ...   \n",
       "68395         0  3707078945              70              10           19   \n",
       "68396         0   147673680             207              38           37   \n",
       "68397         1   909608125              89              15           22   \n",
       "68398         1  2434157708             126              21           24   \n",
       "68399         0  3259941114             136              24           25   \n",
       "\n",
       "       log_id_char_length  log_id_word_length  item_condition_id_1  \\\n",
       "0                5.438079            3.713572                    0   \n",
       "1                5.153292            3.367296                    0   \n",
       "2                3.970292            2.302585                    1   \n",
       "3                4.110874            2.639057                    1   \n",
       "4                5.017280            3.401197                    1   \n",
       "...                   ...                 ...                  ...   \n",
       "68395            4.262680            2.397895                    1   \n",
       "68396            5.337538            3.663562                    1   \n",
       "68397            4.499810            2.772589                    0   \n",
       "68398            4.844187            3.091042                    1   \n",
       "68399            4.919981            3.218876                    1   \n",
       "\n",
       "       item_condition_id_2  item_condition_id_3  ...  type_item_Sandals  \\\n",
       "0                        0                    1  ...                  0   \n",
       "1                        0                    1  ...                  0   \n",
       "2                        0                    0  ...                  0   \n",
       "3                        0                    0  ...                  0   \n",
       "4                        0                    0  ...                  0   \n",
       "...                    ...                  ...  ...                ...   \n",
       "68395                    0                    0  ...                  0   \n",
       "68396                    0                    0  ...                  0   \n",
       "68397                    1                    0  ...                  0   \n",
       "68398                    0                    0  ...                  0   \n",
       "68399                    0                    0  ...                  0   \n",
       "\n",
       "       type_item_Shirts & tops  type_item_Shorts  type_item_Shoulder Bags  \\\n",
       "0                            0                 0                        0   \n",
       "1                            0                 0                        0   \n",
       "2                            0                 0                        0   \n",
       "3                            0                 0                        0   \n",
       "4                            0                 0                        0   \n",
       "...                        ...               ...                      ...   \n",
       "68395                        0                 0                        0   \n",
       "68396                        0                 0                        0   \n",
       "68397                        0                 0                        0   \n",
       "68398                        0                 0                        0   \n",
       "68399                        0                 0                        0   \n",
       "\n",
       "       type_item_Slim, skinny  type_item_T-shirts  type_item_Tank, cami  \\\n",
       "0                           0                   0                     0   \n",
       "1                           0                   0                     0   \n",
       "2                           0                   0                     0   \n",
       "3                           0                   0                     0   \n",
       "4                           0                   0                     0   \n",
       "...                       ...                 ...                   ...   \n",
       "68395                       0                   0                     0   \n",
       "68396                       0                   0                     0   \n",
       "68397                       0                   0                     0   \n",
       "68398                       0                   0                     0   \n",
       "68399                       0                   0                     0   \n",
       "\n",
       "       type_item_Tunic  type_item_Two-piece  type_item_Wallets  \n",
       "0                    0                    0                  0  \n",
       "1                    0                    0                  0  \n",
       "2                    0                    0                  0  \n",
       "3                    0                    0                  0  \n",
       "4                    0                    0                  0  \n",
       "...                ...                  ...                ...  \n",
       "68395                0                    0                  0  \n",
       "68396                0                    0                  0  \n",
       "68397                0                    0                  0  \n",
       "68398                0                    0                  0  \n",
       "68399                0                    0                  0  \n",
       "\n",
       "[68400 rows x 46 columns]"
      ]
     },
     "execution_count": 180,
     "metadata": {},
     "output_type": "execute_result"
    }
   ],
   "source": [
    "X = pd.get_dummies(X, columns = ['item_condition_id','item', 'type_item'])\n",
    "X"
   ]
  },
  {
   "cell_type": "code",
   "execution_count": 181,
   "id": "f301fad9",
   "metadata": {},
   "outputs": [
    {
     "name": "stdout",
     "output_type": "stream",
     "text": [
      "Shape of X: (68400, 46)\n",
      "Shape of y: (68400,)\n"
     ]
    }
   ],
   "source": [
    "print('Shape of X:', X.shape)\n",
    "print('Shape of y:', y.shape)"
   ]
  },
  {
   "cell_type": "code",
   "execution_count": 183,
   "id": "d63690ed",
   "metadata": {},
   "outputs": [],
   "source": [
    "\n",
    "scaler = StandardScaler()\n",
    "\n",
    "model1 = Ridge(alpha=1)\n",
    "model2 = LinearSVR()\n",
    "model3 = RandomForestRegressor()"
   ]
  },
  {
   "cell_type": "code",
   "execution_count": 155,
   "id": "cea0080e",
   "metadata": {},
   "outputs": [],
   "source": [
    "def loss(y_train, y_pred):\n",
    "    loss = np.sqrt(mean_squared_log_error(y_train, abs(y_pred)))\n",
    "    return loss"
   ]
  },
  {
   "cell_type": "code",
   "execution_count": 156,
   "id": "4bf387c9",
   "metadata": {},
   "outputs": [
    {
     "data": {
      "text/plain": [
       "3"
      ]
     },
     "execution_count": 156,
     "metadata": {},
     "output_type": "execute_result"
    }
   ],
   "source": [
    "y.min()"
   ]
  },
  {
   "cell_type": "code",
   "execution_count": 160,
   "id": "989e1f4d",
   "metadata": {},
   "outputs": [],
   "source": [
    "\n",
    "rmsle = make_scorer(loss, greater_is_better = True)"
   ]
  },
  {
   "cell_type": "code",
   "execution_count": 166,
   "id": "c443efb6",
   "metadata": {},
   "outputs": [
    {
     "data": {
      "text/plain": [
       "array([1.18549743, 1.26866305, 0.90317534, 0.75321026, 0.68096492,\n",
       "       0.57224982, 0.54691586, 0.53040462, 0.56848546, 0.78764595])"
      ]
     },
     "execution_count": 166,
     "metadata": {},
     "output_type": "execute_result"
    }
   ],
   "source": [
    "\n",
    "cross_val_score(model3, X, y, cv = 10, scoring=rmsle)"
   ]
  },
  {
   "cell_type": "code",
   "execution_count": 167,
   "id": "bc78b234",
   "metadata": {},
   "outputs": [],
   "source": [
    "\n",
    "X_train, X_test, y_train, y_test = train_test_split(X, y, test_size=0.25, random_state=42)"
   ]
  },
  {
   "cell_type": "code",
   "execution_count": 186,
   "id": "941bb355",
   "metadata": {},
   "outputs": [
    {
     "data": {
      "text/plain": [
       "0.7307240482276453"
      ]
     },
     "execution_count": 186,
     "metadata": {},
     "output_type": "execute_result"
    }
   ],
   "source": [
    "model1.fit(scaler.fit_transform(X_train), y_train)\n",
    "y_pred1 = model1.predict(scaler.fit_transform(X_test))\n",
    "loss(y_test, y_pred)"
   ]
  },
  {
   "cell_type": "code",
   "execution_count": 184,
   "id": "efde5ac2",
   "metadata": {},
   "outputs": [
    {
     "data": {
      "text/plain": [
       "0.7307240482276453"
      ]
     },
     "execution_count": 184,
     "metadata": {},
     "output_type": "execute_result"
    }
   ],
   "source": [
    "model2.fit(scaler.fit_transform(X_train), y_train)\n",
    "y_pred2 = model2.predict(scaler.fit_transform(X_test))\n",
    "loss(y_test, y_pred)"
   ]
  },
  {
   "cell_type": "code",
   "execution_count": 168,
   "id": "9e11bfc2",
   "metadata": {},
   "outputs": [
    {
     "data": {
      "text/plain": [
       "0.7495542327133108"
      ]
     },
     "execution_count": 168,
     "metadata": {},
     "output_type": "execute_result"
    }
   ],
   "source": [
    "model3.fit(X_train, y_train)\n",
    "y_pred3 = model3.predict(X_test)\n",
    "loss(y_test, y_pred)"
   ]
  },
  {
   "cell_type": "code",
   "execution_count": 187,
   "id": "83c410c9",
   "metadata": {},
   "outputs": [
    {
     "data": {
      "text/plain": [
       "-3.559912345481383"
      ]
     },
     "execution_count": 187,
     "metadata": {},
     "output_type": "execute_result"
    }
   ],
   "source": [
    "y_pred2.min()"
   ]
  },
  {
   "cell_type": "code",
   "execution_count": null,
   "id": "f0e35a46",
   "metadata": {},
   "outputs": [],
   "source": []
  },
  {
   "cell_type": "code",
   "execution_count": null,
   "id": "1da152a0",
   "metadata": {},
   "outputs": [],
   "source": []
  },
  {
   "cell_type": "code",
   "execution_count": 2,
   "id": "68e3fb5e",
   "metadata": {},
   "outputs": [],
   "source": [
    "dftest = pd.read_csv('mercari_test.csv')"
   ]
  },
  {
   "cell_type": "code",
   "execution_count": 4,
   "id": "8f295c87",
   "metadata": {},
   "outputs": [
    {
     "data": {
      "text/plain": [
       "{'Women/Athletic apparel/Pants, tights, leggings',\n",
       " 'Women/Athletic apparel/Shirts & tops',\n",
       " 'Women/Athletic apparel/Shorts',\n",
       " 'Women/Dresses/Above knee, mini',\n",
       " 'Women/Dresses/Knee-length',\n",
       " 'Women/Jeans/Slim, skinny',\n",
       " 'Women/Jewelry/Bracelets',\n",
       " 'Women/Jewelry/Earrings',\n",
       " 'Women/Jewelry/Necklaces',\n",
       " 'Women/Shoes/Athletic',\n",
       " 'Women/Shoes/Boots',\n",
       " 'Women/Shoes/Fashion sneakers',\n",
       " 'Women/Shoes/Sandals',\n",
       " 'Women/Sweaters/Cardigan',\n",
       " 'Women/Sweaters/Hooded',\n",
       " 'Women/Swimwear/Two-piece',\n",
       " 'Women/Tops & blouses/Blouse',\n",
       " 'Women/Tops & blouses/T-shirts',\n",
       " 'Women/Tops & blouses/Tank, cami',\n",
       " 'Women/Tops & blouses/Tunic',\n",
       " 'Women/Underwear/Bras',\n",
       " \"Women/Women's accessories/Wallets\",\n",
       " \"Women/Women's handbags/Shoulder Bags\"}"
      ]
     },
     "execution_count": 4,
     "metadata": {},
     "output_type": "execute_result"
    }
   ],
   "source": [
    "set(dftest.category_name)"
   ]
  },
  {
   "cell_type": "code",
   "execution_count": null,
   "id": "29c90974",
   "metadata": {},
   "outputs": [],
   "source": []
  }
 ],
 "metadata": {
  "kernelspec": {
   "display_name": "Python 3 (ipykernel)",
   "language": "python",
   "name": "python3"
  },
  "language_info": {
   "codemirror_mode": {
    "name": "ipython",
    "version": 3
   },
   "file_extension": ".py",
   "mimetype": "text/x-python",
   "name": "python",
   "nbconvert_exporter": "python",
   "pygments_lexer": "ipython3",
   "version": "3.9.5"
  }
 },
 "nbformat": 4,
 "nbformat_minor": 5
}
